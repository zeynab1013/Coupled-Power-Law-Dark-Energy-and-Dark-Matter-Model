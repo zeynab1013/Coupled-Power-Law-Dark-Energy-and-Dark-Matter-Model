{
 "cells": [
  {
   "cell_type": "code",
   "execution_count": 20,
   "metadata": {},
   "outputs": [
    {
     "name": "stdout",
     "output_type": "stream",
     "text": [
      "CAMB version: 1.3.2 \n"
     ]
    }
   ],
   "source": [
    "import numpy as np\n",
    "from scipy.integrate import odeint\n",
    "from scipy import integrate\n",
    "from scipy.interpolate import interp1d\n",
    "from scipy.integrate import quad\n",
    "from functools import partial\n",
    "import matplotlib.pyplot as plt\n",
    "\n",
    "import camb\n",
    "from camb import model, initialpower\n",
    "print('CAMB version: %s '%camb.__version__)\n",
    "\n",
    "#plt.style.use('classic')\n",
    "#%matplotlib inline\n",
    "#%config InlineBackend.figure_format = 'retina'\n",
    "import sys, platform, os\n",
    "try:\n",
    "    from cobaya.run import run\n",
    "except ImportError:\n",
    "    sys.path.insert(0,'../../cobaya')\n",
    "    from cobaya.run import run"
   ]
  },
  {
   "cell_type": "code",
   "execution_count": 21,
   "metadata": {},
   "outputs": [],
   "source": [
    "class ro_m_ro_d:\n",
    "    def __init__(self, b, alpha, w0, oc0h2, M, H0):\n",
    "        self.b     = b\n",
    "        self.alpha = alpha\n",
    "        self.w0    = w0\n",
    "        self.oc0h2   = oc0h2\n",
    "        self.H0    = H0\n",
    "        self.M     = M\n",
    "        #self.okH0  = self.H0 * np.sqrt(np.abs(self.om0 + self.od0 - 1)) / 3e5\n",
    "        self.on0 = 0.0014\n",
    "        #self.ob0h2 = ob0h2\n",
    "        self.ob0h2 = 0.022383\n",
    "        self.od0   = 1. - (self.oc0h2*((100./self.H0)**2.) + self.ob0h2*((100./self.H0)**2.) + self.on0)\n",
    "        self.z     = np.logspace(-2,0.3,100)\n",
    "        self.omega = odeint(ro_m_ro_d.con, [self.oc0h2*((100./self.H0)**2.), self.od0, self.ob0h2*((100./self.H0)**2.)], self.z, args=(self.b, self.alpha, self.w0))\n",
    "        \n",
    "    def con(y, z, b, alpha, w0):\n",
    "        ro_c , ro_d, ro_b = y\n",
    "        dydz = [(-1./(1.+z))*(-3.*ro_c+b*(ro_c+ro_d)) , (1./(1.+z))*(b*(ro_c+ro_d)+(1.+w0/(1.+z)**alpha)*3.*ro_d) ,\n",
    "                3.*ro_b/(1.+z)]\n",
    "        return dydz\n",
    "    \n",
    "    def roc(self,x):\n",
    "        A = interp1d(self.z, self.omega[:,0],kind='cubic',fill_value=\"extrapolate\")\n",
    "        return A(x)\n",
    "    \n",
    "    def rod(self,x):\n",
    "        A = interp1d(self.z, self.omega[:,1],kind='cubic',fill_value=\"extrapolate\")\n",
    "        return A(x)\n",
    "    \n",
    "    def rob(self,x):\n",
    "        A = interp1d(self.z, self.omega[:,2],kind='cubic',fill_value=\"extrapolate\")\n",
    "        return A(x)\n",
    "    \n",
    "    def H(self,x):\n",
    "        return self.H0*np.sqrt((ro_m_ro_d.roc(self,x) + ro_m_ro_d.rod(self,x)) + ro_m_ro_d.rob(self,x))\n",
    "    \n",
    "    def dco(self,x): #comoving distance (Mpc)\n",
    "        a        = np.zeros(len(x))\n",
    "        for i in range(len(x)):\n",
    "            zs = int(x[i]/0.004)\n",
    "            xs   = np.linspace(0,x[i],zs)\n",
    "            a[i] = np.trapz(3e5/ro_m_ro_d.H(self,xs) , xs )\n",
    "        return a \n",
    "\n",
    "    def dlu(self,x): #luminosity distance (Mpc)        \n",
    "            return (1.+x)*ro_m_ro_d.dco(self,x)\n",
    "    \n",
    "    def mod(self,x): #distance modulus, (apparent magnitude) #data series 1\n",
    "        return 5.*np.log10(ro_m_ro_d.dlu(self,x)) + 25.0 - self.M\n",
    "    \n",
    "    def mu(self,x,m): #data series 1\n",
    "        return np.array([ro_m_ro_d.mod(self,x) - m])\n",
    "\n",
    "    def mut(self,x,m): #data series 1\n",
    "        return np.reshape(ro_m_ro_d.mu(self,x,m),(40,1))\n",
    "\n",
    "    def chi2(self,x,m,cinv): #data series 1\n",
    "        return np.matmul(ro_m_ro_d.mu(self,x,m),np.matmul(cinv,ro_m_ro_d.mut(self,x,m)))\n",
    "    \n",
    "    def modloglike(self,x,m,c): #data series 1\n",
    "        cinv = np.linalg.inv(c)\n",
    "        return - 0.5 * ro_m_ro_d.chi2(self,x,m,cinv)\n",
    "    \n",
    "    def desmut(self,x,m): #data series 10\n",
    "        return np.reshape(ro_m_ro_d.mu(self,x,m),(20,1))\n",
    "\n",
    "    def deschi2(self,x,m,cinv): #data series 10\n",
    "        return np.matmul(ro_m_ro_d.mu(self,x,m),np.matmul(cinv,ro_m_ro_d.desmut(self,x,m)))\n",
    "    \n",
    "    def desloglike (self,x,m,c): #data series 10\n",
    "        cinv = np.linalg.inv(c)\n",
    "        return - 0.5 * ro_m_ro_d.deschi2(self,x,m,cinv)\n",
    "    \n",
    "    def dratio(self,x): #data seroies 2 \n",
    "        rs =(55.154*np.exp(-72.3*(self.on0*(self.H0/100.)**2.+0.0006)**2.))/((self.ob0h2)**0.12807*(self.ob0h2+self.oc0h2)**0.25351)\n",
    "        #rsfid = 147.78\n",
    "        return rs*(3e5*x*(ro_m_ro_d.dco(self,x))**2./ro_m_ro_d.H(self,x))**(-1./3.)\n",
    "    \n",
    "    def bao(self, x, dv): #data series 2\n",
    "        return np.array(ro_m_ro_d.dratio(self,x) - dv)  #((3e5*x*dm**2.)/h)**(1./3.))\n",
    "\n",
    "    def baot(self, x, dv): #data series 2\n",
    "        return np.reshape(ro_m_ro_d.bao(self, x, dv),(6,1))\n",
    "    \n",
    "    def baochi2(self, x, dv, cinv): #data series 2\n",
    "        return np.matmul(ro_m_ro_d.bao(self,x,dv),np.matmul(cinv,ro_m_ro_d.baot(self,x,dv)))\n",
    "    \n",
    "    def baologlike(self,x,dv, c): #data series 2\n",
    "        coinv = np.linalg.inv(c)\n",
    "        return -0.5*ro_m_ro_d.baochi2(self, x, dv, coinv)\n",
    "\n",
    "    def baohdc(self, x, d1, d2): #H(z) , d_comoving - data series 3\n",
    "        rs =(55.154*np.exp(-72.3*(self.on0*(self.H0/100.)**2.+0.0006)**2.))/((self.ob0h2)**0.12807*(self.ob0h2+self.oc0h2)**0.25351)\n",
    "        rsfid = 147.78\n",
    "        return np.append(np.array(rsfid*ro_m_ro_d.dco(self,x)/rs - d1), np.array(rsfid*ro_m_ro_d.H(self,x)/rs - d2)) \n",
    "\n",
    "    def baothdc(self, x, h, dc): #data series 3\n",
    "        return np.reshape(ro_m_ro_d.baohdc(self, x, h, dc),(6,1)) \n",
    "    \n",
    "    def baohdcchi2(self, x, h, dc, cinv):  #data series 3\n",
    "        return np.matmul(ro_m_ro_d.baohdc(self,x,h, dc),np.matmul(cinv,ro_m_ro_d.baothdc(self, x, h, dc)))\n",
    "    \n",
    "    def baohdcloglike(self,x, h, dc, c):  #data series 3\n",
    "        coinv = np.linalg.inv(c)\n",
    "        return -0.5*ro_m_ro_d.baohdcchi2(self, x, h, dc, coinv)\n",
    "      \n",
    "    def dratioinv(self,x): #data series 4\n",
    "        rs =(55.154*np.exp(-72.3*(self.on0*(self.H0/100.)**2.+0.0006)**2.))/((self.ob0h2)**0.12807*(self.ob0h2+self.oc0h2)**0.25351)\n",
    "        rsfid = 147.78\n",
    "        return rsfid*((3e5*x*(ro_m_ro_d.dco(self,x))**2./ro_m_ro_d.H(self,x))**(1./3.))/rs\n",
    "    \n",
    "    def dratioinvloglike(self, x, y, yerr): #data series 4\n",
    "        sigma2 = yerr ** 2. \n",
    "        return -0.5 * np.sum((y - ro_m_ro_d.dratioinv(self,x)) ** 2 / (sigma2))\n",
    " \n",
    "    def da(self,x): #data series 4'\n",
    "        rs =(55.154*np.exp(-72.3*(self.on0*(self.H0/100.)**2.+0.0006)**2.))/((self.ob0h2)**0.12807*(self.ob0h2+self.oc0h2)**0.25351)\n",
    "        return ro_m_ro_d.dco(self,x)/(rs*(1+x))\n",
    "    \n",
    "    def daloglike(self, x, y, yerr): #data series 4'\n",
    "        sigma2 = yerr ** 2. \n",
    "        return -0.5 * np.sum((y - ro_m_ro_d.da(self,x)) ** 2 / (sigma2))\n",
    "    \n",
    "    def dcdh(self, x, d1, d2): #data series 5\n",
    "        rs =(55.154*np.exp(-72.3*(self.on0*(self.H0/100.)**2.+0.0006)**2.))/((self.ob0h2)**0.12807*(self.ob0h2+self.oc0h2)**0.25351)\n",
    "        return np.append(np.array(ro_m_ro_d.dco(self,x)/rs - d1), np.array(3e5/(ro_m_ro_d.H(self,x)*rs) - d2))\n",
    "    \n",
    "    def dcdht(self, x, d1, d2): #data seies 5\n",
    "        return np.reshape(ro_m_ro_d.dcdh(self, x, d1, d2),(2,1)) \n",
    "    \n",
    "    def dcdhchi2(self, x, d1, d2, cinv):#data seies 5\n",
    "        return np.matmul(ro_m_ro_d.dcdh(self, x, d1, d2),np.matmul(cinv,ro_m_ro_d.dcdht(self, x, d1, d2)))\n",
    "    \n",
    "    def dcdhloglike(self, x, d1, d2, c): #data seies 5\n",
    "        coinv = np.linalg.inv(c)\n",
    "        return -0.5*ro_m_ro_d.dcdhchi2(self, x, d1, d2, coinv)\n",
    "    \n",
    "    def hloglike(self, x, y, yerr): #data series 6\n",
    "        sigma2 = yerr ** 2. \n",
    "        return -0.5 * np.sum((y - ro_m_ro_d.H(self,x)) ** 2 / (sigma2))\n",
    "    \n",
    "    def grbloglike(self, x, y, err): #data series 7\n",
    "        sigma2 = err ** 2. \n",
    "        return -0.5 * np.sum((y - (ro_m_ro_d.mod(self,x) + self.M)) ** 2 / (sigma2))\n",
    "    \n",
    "    def qsologlike(self, x, y, err): #data series 8\n",
    "        sigma2 = err ** 2. \n",
    "        return -0.5 * np.sum((y - (6.*11.03e3/(29.1*ro_m_ro_d.dco(self,x)/(1.+x)))) ** 2 / (sigma2))\n",
    "    def angularscale(self, x):\n",
    "        rs =(55.154*np.exp(-72.3*(self.on0*(self.H0/100.)**2.+0.0006)**2.))/((self.ob0h2)**0.12807*(self.ob0h2+self.oc0h2)**0.25351)\n",
    "        return rs/ro_m_ro_d.dco(self,x)\n",
    "    \n",
    "    def angularscaleloglike(self, x, y, yerr):\n",
    "        sigma2 = yerr ** 2. \n",
    "        return -0.5 * np.sum((y - ro_m_ro_d.angularscale(self,x)) ** 2 / (sigma2))\n",
    "    "
   ]
  },
  {
   "cell_type": "code",
   "execution_count": 23,
   "metadata": {},
   "outputs": [],
   "source": [
    "#Pantheon data - data series 1\n",
    "data = np.loadtxt('./pantheon-bin40.txt',usecols=(1,4,5),\n",
    "                  dtype=[('z','f8'),('m','f8'),('e','f8')])\n",
    "z1 = data['z']\n",
    "mu = data['m']\n",
    "c1    = np.loadtxt('./pantheon-cov40.txt').reshape(40,40) #cov matrix\n",
    "e1    = np.diag(data['e']**2) #errors\n",
    "co1 = c1 + e1\n",
    "\n",
    "#BAO data from https://arxiv.org/pdf/2101.08817.pdf - last 2 correlated ones - data series 5\n",
    "z5 = np.array([2.334])\n",
    "dc = np.array([37.5])\n",
    "dh = np.array([8.99])\n",
    "c5 = np.array([[1.3225, -0.1009], [-0.1009, 0.038]])\n",
    "\n",
    "\n",
    "#H(z) data from OHD - data series 6\n",
    "z6 = np.array([0.0708, 0.09, 0.12, 0.17, 0.179, 0.199, 0.2, 0.240, 0.27, 0.28, 0.35, 0.352, 0.3802,\n",
    "               0.4, 0.4004, 0.4247, 0.43, 0.44, 0.4497, 0.47, 0.4783, 0.48, 0.57, 0.593, 0.6, 0.68,\n",
    "               0.73, 0.781, 0.875, 0.88, 0.9, 1.037, 1.3, 1.363, 1.43, 1.53, 1.75, 1.965, 2.34, 2.36])\n",
    "y6 = np.array([69.0, 69.0, 68.6, 83.0, 75.0, 75.0, 72.9, 79.69, 77.0, 88.8, 84.4, 83.0, 83.0, 95.0, 77.0,\n",
    "              87.1, 86.45, 82.6, 92.8, 89.0, 80.9, 97.0, 92.4, 104.0, 87.9, 92.0, 97.3, 105.0, 125.0,\n",
    "              90.0, 117.0, 154.0, 168.0, 160.0, 177.0, 140.0, 202.0, 186.5, 222.0, 226.0])\n",
    "yerr6 = np.array([19.68, 12.0, 26.2, 8.0, 4.0, 5.0, 29.6, 2.65, 14.0, 36.6, 7.0, 14.0, 13.5, 17.0, 10.2, 11.2,\n",
    "                 3.68, 7.8, 12.9, 50.0, 9.0, 62.0, 4.5, 13.0, 6.1, 8.0, 7.0, 12.0, 17.0, 40.0, 23.0, 20.0,\n",
    "                 17.0, 33.6, 18.0, 14.0, 40.0, 50.4, 7.0, 8.0])\n",
    "\n",
    "\n",
    "#GRB - Distance modulus data from https://iopscience.iop.org/article/10.3847/1538-4357/ab4e11#apjab4e11eqn5 - data series 7\n",
    "#data7 = np.loadtxt('./grb-25.txt',usecols=(2, 3, 4, 7, 8, 9, 10),\n",
    "                  #dtype=[('z','f8'),('Ep','f8'),('eEp','f8'),('sb','f8'),('esb','f8'),('miu','f8'), ('emiu','f8')])\n",
    "#z7 = np.array(data7['z'])\n",
    "#y7 = np.array(data7['miu'])\n",
    "#err7 = (2.5**2.*((0.16*np.log10(np.array(data7['Ep'])/550.))**2.\n",
    "        #+((1.15/np.log(10.))*(np.array(data7['eEp']))/(np.array(data7['Ep'])))**2.+0.07**2.+0.41**2.)+\n",
    "        #((2.5/np.log(10.))*((np.array(data7['esb']))/(np.array(data7['sb']))))**2.)**0.5\n",
    "        \n",
    "z7 = np.array([3.51,  2.53,  1.406,1.17,  0.807, 2.06,  1.758, 2.33,  0.6439,2.4,\n",
    "               2.49,  0.3399,2.2,   3.512, 1.567, 1.368, 1.063, 0.49,  0.8969,2.1062,\n",
    "               1.822, 0.544, 0.736, 3.57,  4.35 ])\n",
    "y7 = np.array([46.22,45.49,43.25,46.89,45.05,46.61,45.22,46.48,42.73,46.35,45.86,41.56,\n",
    "               44.78,48.94,44.61,45.19,45.63,42.55,45.43,44.47,44.66,43.3, 45.14,46.12,0.24])\n",
    "\n",
    "err7 = np.array([1.05339617e+00,1.06831447e+00,1.05576995e+00,1.21090833e+00,\n",
    "                 1.07677033e+00,1.07478533e+00,1.04498858e+00,1.05208452e+00,\n",
    "                 1.04226657e+00,1.04844845e+00,1.05662548e+00,1.04581157e+00,\n",
    "                 1.04932820e+00,1.15159609e+00,1.04233645e+00,1.05226820e+00,\n",
    "                 1.06303003e+00,1.10934408e+00,1.04398968e+00,1.04307771e+00,\n",
    "                 1.06649153e+00,1.05048751e+00,1.05271612e+00,1.06845839e+00,5.78838579e+04])\n",
    "\n",
    "\n",
    "#QSO data - angular size - data series 8\n",
    "#ata8 = np.loadtxt('./QSO.txt',usecols=(2, 3, 4, 10, 11, 12),\n",
    "                  #type=[('z1','f8'),('d1','f8'),('e1','f8'),('z2','f8'),('d2','f8'),('e2','f8')])\n",
    "#z8 = np.array(np.append(data8['z1'],data8['z2']))\n",
    "#8 = np.array(np.append(data8['d1'],data8['d2']))\n",
    "#8 = np.array(np.append(data8['e1'],data8['e2']))\n",
    "\n",
    "e8 = np.array([0.027, 0.052, 0.077, 0.048, 0.077, 0.097, 0.041, 0.15 , 0.108,\n",
    "               0.208, 0.11 , 0.075, 2.6  , 1.3  , 1.8  , 0.076, 0.058, 0.304,\n",
    "               0.144, 0.094, 0.183, 0.049, 0.249, 0.059, 0.041, 0.087, 0.121,\n",
    "               0.063, 0.426, 0.051, 0.033, 0.081, 0.197, 0.122, 0.163, 0.453,\n",
    "               0.07 , 0.16 , 0.258, 0.581, 0.086, 0.053, 0.054, 0.069, 0.048,\n",
    "               0.089, 0.081, 0.088, 0.085, 0.147, 0.064, 1.   , 0.111, 0.19 ,\n",
    "               0.381, 0.146, 0.111, 0.107, 0.77 , 0.187, 0.047, 0.064, 0.064,\n",
    "               0.135, 0.863, 0.117, 0.058, 0.096, 0.14 , 0.171, 0.114, 0.306,\n",
    "               1.19 , 0.725, 0.682, 0.223, 0.19 , 0.059, 0.082, 0.059, 0.429,\n",
    "               0.216, 0.109, 0.168, 0.1  , 0.081, 0.034, 0.051, 0.203, 0.093,\n",
    "               0.214, 0.108, 0.124, 0.205, 0.139, 0.191, 0.15 , 0.047, 0.082,\n",
    "               0.495, 0.9  , 0.286, 1.17 , 0.7  , 0.163, 0.094, 0.279, 0.148,\n",
    "               0.057, 0.368, 0.132, 0.5  , 0.048, 0.077, 0.223, 0.036, 0.045,\n",
    "               0.323, 0.101, 0.132])\n",
    "d8 = np.array([2.743, 1.454, 1.049, 1.974, 2.399, 1.933, 1.525, 1.762, 2.218,\n",
    "               1.292, 1.972, 1.904, 0.129, 0.245, 0.074, 1.139, 1.518, 0.897,\n",
    "               1.953, 1.758, 1.73 , 2.094, 1.635, 1.144, 1.149, 1.747, 1.661,\n",
    "               1.81 , 0.568, 1.031, 1.517, 1.794, 1.544, 1.552, 1.797, 1.155,\n",
    "               0.76 , 1.529, 1.399, 0.88 , 1.638, 1.727, 1.758, 1.277, 1.485,\n",
    "               1.611, 1.099, 1.254, 2.622, 2.032, 1.38 , 0.151, 2.109, 1.544,\n",
    "               1.046, 1.883, 0.979, 1.583, 0.517, 1.2  , 2.07 , 1.387, 1.682,\n",
    "               0.528, 0.438, 1.608, 1.46 , 1.168, 0.758, 0.596, 0.424, 1.481,\n",
    "               0.074, 0.168, 0.073, 1.484, 1.327, 1.784, 1.292, 1.243, 0.87 ,\n",
    "               2.446, 1.038, 0.796, 1.497, 1.743, 1.788, 1.788, 0.659, 1.431,\n",
    "               1.245, 1.005, 1.464, 1.602, 1.629, 1.25 , 0.66 , 1.136, 0.518,\n",
    "               0.85 , 0.307, 1.13 , 0.059, 0.194, 1.526, 1.207, 1.7  , 1.901,\n",
    "               1.595, 1.422, 1.916, 0.664, 2.264, 1.449, 1.097, 1.434, 1.676,\n",
    "               1.598, 1.506, 1.252])\n",
    "z8 = np.array([0.462 , 0.5362, 0.539 , 0.558 , 0.574 , 0.591 , 0.5928, 0.632 ,\n",
    "               0.67  , 0.6715, 0.673 , 0.677 , 1.244 , 1.454 , 1.415 , 0.74  ,\n",
    "               0.752 , 0.819 , 0.846 , 0.847 , 0.857 , 0.858 , 0.871 , 0.888 ,\n",
    "               0.894 , 0.947 , 0.96  , 0.965 , 0.978 , 0.999 , 1.016 , 1.018 ,\n",
    "               1.02  , 1.025 , 1.034 , 1.066 , 1.07  , 1.08  , 1.088 , 1.0987,\n",
    "               1.139 , 1.141 , 1.153 , 1.159 , 1.184 , 1.187 , 1.202 , 1.212 ,\n",
    "               1.216 , 1.22  , 1.244 , 2.44  , 1.252 , 1.254 , 1.275 , 1.278 ,\n",
    "               1.285 , 1.29  , 1.292 , 1.296 , 1.299 , 1.302 , 1.319 , 1.323 ,\n",
    "               1.326 , 1.339 , 1.356 , 1.4   , 1.407 , 1.41  , 1.417 , 1.42  ,\n",
    "               1.172 , 1.81  , 1.718 , 1.472 , 1.476 , 1.479 , 1.489 , 1.49  ,\n",
    "               1.492 , 1.5586, 1.5595, 1.563 , 1.57  , 1.598 , 1.6077, 1.6301,\n",
    "               1.633 , 1.646 , 1.66  , 1.72  , 1.74  , 1.751 , 1.763 , 1.774 ,\n",
    "               1.776 , 1.81  , 1.821 , 1.837 , 1.635 , 1.873 , 1.537 , 1.396 ,\n",
    "               1.939 , 1.975 , 2.025 , 2.048 , 2.055 , 2.073 , 2.09  , 0.564 ,\n",
    "               2.13  , 2.136 , 2.165 , 2.198 , 2.448 , 2.5584, 2.685 , 2.73  ])\n",
    "    \n",
    "\n",
    "#Des data - distance modulus - https://des.ncsa.illinois.edu/releases/sn - data series 10\n",
    "data10 = np.loadtxt('./des.txt',usecols=(1,4,5),\n",
    "                  dtype=[('z','f8'),('m','f8'),('e','f8')])\n",
    "z10 = data10['z']\n",
    "mu10 = data10['m']\n",
    "c10    = np.loadtxt('./des-cov.txt')[1:].reshape(20,20) #cov matrix\n",
    "e10    = np.diag(data10['e']**2) #errors\n",
    "co10 = c10 + e10\n",
    "\n",
    "#CMB data - Planck 2018\n",
    "z11 = 1\n",
    "theta = 1.04097e-2\n",
    "yerr11 = 0.00046e-2\n",
    "\n",
    "              \n",
    "def my_like(b, alpha, w0, oc0h2, M, H0): \n",
    "    obj   = ro_m_ro_d(b, alpha, w0, oc0h2, M, H0)\n",
    "    return obj.modloglike(z1,mu,co1) + obj.dcdhloglike(z5, dc, dh, c5) + obj.hloglike(z6, y6, yerr6) + obj.desloglike(z10,mu10,co10) + obj.grbloglike(z7, y7, err7) + obj.qsologlike(z8, d8, e8)\n",
    "\n"
   ]
  },
  {
   "cell_type": "code",
   "execution_count": 24,
   "metadata": {},
   "outputs": [],
   "source": [
    "info = {\"likelihood\": {\"external\": my_like},\n",
    "        \"params\"    : {\n",
    "            \"oc0h2\": {\"prior\": {\"min\": 0.001  , \"max\": 0.4},\"ref\": 0.11 ,\"latex\": r\"\\Omega_ch^2\"},\n",
    "            \"w0\"   : {\"prior\": {\"min\": -3.0 , \"max\": -0.1},\"ref\": -1. ,\"latex\": r\"w_0\"},\n",
    "            \"b\"    : {\"prior\": {\"min\": 0.0  , \"max\": 1.0},\"ref\": 0.2 ,\"latex\": r\"b^2\"},\n",
    "            \"alpha\": {\"prior\": {\"min\": 0.0  , \"max\": 2.},\"ref\": 1. ,\"latex\": r\"\\alpha\"},\n",
    "            \"M\"    : {\"prior\": {\"min\": 15.0 , \"max\": 25.},\"ref\": 20. ,\"latex\": r\"M\"},\n",
    "            \"H0\"   : {\"prior\": {\"min\": 55.0 , \"max\": 85.},\"ref\": 69. ,\"latex\": r\"H_0\"},\n",
    "            \"om0\"  : {\"derived\": lambda oc0h2, H0: ((oc0h2+0.022383)/((H0/100.)**2.))+0.0014,\n",
    "                      \"latex\": r\"\\Omega_m0\"}\n",
    "                        },\n",
    "        \"sampler\": {\"mcmc\": {\"Rminus1_stop\": 0.01, \"max_tries\": 100000}},\n",
    "        \"output\":\"bao-h-pantheon-des-grb-qso-b/gaus\",\n",
    "        \"force\":\"True\"\n",
    "        }"
   ]
  },
  {
   "cell_type": "code",
   "execution_count": 25,
   "metadata": {
    "collapsed": true,
    "jupyter": {
     "outputs_hidden": true
    },
    "tags": []
   },
   "outputs": [
    {
     "name": "stdout",
     "output_type": "stream",
     "text": [
      "[output] Output to be read-from/written-into folder 'bao-h-pantheon-des-grb-qso-b', with prefix 'gaus'\n",
      "[output] Found existing info files with the requested output prefix: 'bao-h-pantheon-des-grb-qso-b/gaus'\n",
      "[output] Will delete previous products ('force' was requested).\n",
      "[external] Initialized external likelihood.\n",
      "[mcmc] Getting initial point... (this may take a few seconds)\n",
      "[model] Measuring speeds... (this may take a few seconds)\n",
      "[model] Setting measured speeds (per sec): {external: 2.89}\n",
      "[prior] *WARNING* Reference pdf not defined or improper for some parameters. Using prior's sigma instead for them.\n",
      "[mcmc] Covariance matrix not present. We will start learning the covariance of the proposal earlier: R-1 = 30 (would be 2 if all params loaded).\n",
      "[mcmc] Initial point: oc0h2:0.11, w0:-1, b:0.2, alpha:1, M:20, H0:69\n",
      "[mcmc] Sampling!\n",
      "[mcmc] Progress @ 2021-08-13 22:33:12 : 1 steps taken, and 0 accepted.\n"
     ]
    },
    {
     "name": "stderr",
     "output_type": "stream",
     "text": [
      "<ipython-input-21-1a0682e3a233>:36: RuntimeWarning: invalid value encountered in sqrt\n",
      "  return self.H0*np.sqrt((ro_m_ro_d.roc(self,x) + ro_m_ro_d.rod(self,x)) + ro_m_ro_d.rob(self,x))\n"
     ]
    },
    {
     "name": "stdout",
     "output_type": "stream",
     "text": [
      "[mcmc] Progress @ 2021-08-13 22:34:12 : 575 steps taken, and 7 accepted.\n",
      "[mcmc] Progress @ 2021-08-13 22:35:12 : 1049 steps taken, and 11 accepted.\n"
     ]
    },
    {
     "name": "stderr",
     "output_type": "stream",
     "text": [
      "<ipython-input-21-1a0682e3a233>:36: RuntimeWarning: invalid value encountered in sqrt\n",
      "  return self.H0*np.sqrt((ro_m_ro_d.roc(self,x) + ro_m_ro_d.rod(self,x)) + ro_m_ro_d.rob(self,x))\n"
     ]
    },
    {
     "name": "stdout",
     "output_type": "stream",
     "text": [
      "[mcmc] Progress @ 2021-08-13 22:36:12 : 1663 steps taken, and 14 accepted.\n",
      "[mcmc] Progress @ 2021-08-13 22:37:13 : 2220 steps taken, and 16 accepted.\n"
     ]
    },
    {
     "name": "stderr",
     "output_type": "stream",
     "text": [
      "<ipython-input-21-1a0682e3a233>:36: RuntimeWarning: invalid value encountered in sqrt\n",
      "  return self.H0*np.sqrt((ro_m_ro_d.roc(self,x) + ro_m_ro_d.rod(self,x)) + ro_m_ro_d.rob(self,x))\n"
     ]
    },
    {
     "name": "stdout",
     "output_type": "stream",
     "text": [
      "[mcmc] Progress @ 2021-08-13 22:38:13 : 2807 steps taken, and 17 accepted.\n",
      "[mcmc] Progress @ 2021-08-13 22:39:13 : 3438 steps taken, and 17 accepted.\n",
      "[mcmc] Progress @ 2021-08-13 22:40:13 : 3989 steps taken, and 18 accepted.\n"
     ]
    },
    {
     "name": "stderr",
     "output_type": "stream",
     "text": [
      "<ipython-input-21-1a0682e3a233>:36: RuntimeWarning: invalid value encountered in sqrt\n",
      "  return self.H0*np.sqrt((ro_m_ro_d.roc(self,x) + ro_m_ro_d.rod(self,x)) + ro_m_ro_d.rob(self,x))\n"
     ]
    },
    {
     "name": "stdout",
     "output_type": "stream",
     "text": [
      "[mcmc] Progress @ 2021-08-13 22:41:13 : 4558 steps taken, and 19 accepted.\n",
      "[mcmc] Progress @ 2021-08-13 22:42:14 : 5143 steps taken, and 20 accepted.\n"
     ]
    },
    {
     "name": "stderr",
     "output_type": "stream",
     "text": [
      "<ipython-input-21-1a0682e3a233>:36: RuntimeWarning: invalid value encountered in sqrt\n",
      "  return self.H0*np.sqrt((ro_m_ro_d.roc(self,x) + ro_m_ro_d.rod(self,x)) + ro_m_ro_d.rob(self,x))\n"
     ]
    },
    {
     "name": "stdout",
     "output_type": "stream",
     "text": [
      "[mcmc] Progress @ 2021-08-13 22:43:14 : 5728 steps taken, and 25 accepted.\n"
     ]
    },
    {
     "name": "stderr",
     "output_type": "stream",
     "text": [
      "<ipython-input-21-1a0682e3a233>:36: RuntimeWarning: invalid value encountered in sqrt\n",
      "  return self.H0*np.sqrt((ro_m_ro_d.roc(self,x) + ro_m_ro_d.rod(self,x)) + ro_m_ro_d.rob(self,x))\n"
     ]
    },
    {
     "name": "stdout",
     "output_type": "stream",
     "text": [
      "[mcmc] Progress @ 2021-08-13 22:44:14 : 6473 steps taken, and 27 accepted.\n"
     ]
    },
    {
     "name": "stderr",
     "output_type": "stream",
     "text": [
      "<ipython-input-21-1a0682e3a233>:36: RuntimeWarning: invalid value encountered in sqrt\n",
      "  return self.H0*np.sqrt((ro_m_ro_d.roc(self,x) + ro_m_ro_d.rod(self,x)) + ro_m_ro_d.rob(self,x))\n"
     ]
    },
    {
     "name": "stdout",
     "output_type": "stream",
     "text": [
      "[mcmc] Progress @ 2021-08-13 22:45:14 : 7171 steps taken, and 28 accepted.\n"
     ]
    },
    {
     "name": "stderr",
     "output_type": "stream",
     "text": [
      "<ipython-input-21-1a0682e3a233>:36: RuntimeWarning: invalid value encountered in sqrt\n",
      "  return self.H0*np.sqrt((ro_m_ro_d.roc(self,x) + ro_m_ro_d.rod(self,x)) + ro_m_ro_d.rob(self,x))\n"
     ]
    },
    {
     "name": "stdout",
     "output_type": "stream",
     "text": [
      "[mcmc] Progress @ 2021-08-13 22:46:14 : 7795 steps taken, and 28 accepted.\n",
      "[mcmc] Progress @ 2021-08-13 22:47:14 : 8512 steps taken, and 28 accepted.\n",
      "[mcmc] Progress @ 2021-08-13 22:48:15 : 9241 steps taken, and 31 accepted.\n"
     ]
    },
    {
     "name": "stderr",
     "output_type": "stream",
     "text": [
      "<ipython-input-21-1a0682e3a233>:36: RuntimeWarning: invalid value encountered in sqrt\n",
      "  return self.H0*np.sqrt((ro_m_ro_d.roc(self,x) + ro_m_ro_d.rod(self,x)) + ro_m_ro_d.rob(self,x))\n"
     ]
    },
    {
     "name": "stdout",
     "output_type": "stream",
     "text": [
      "[mcmc] Progress @ 2021-08-13 22:49:15 : 9874 steps taken, and 31 accepted.\n",
      "[mcmc] Progress @ 2021-08-13 22:50:15 : 10478 steps taken, and 33 accepted.\n"
     ]
    },
    {
     "name": "stderr",
     "output_type": "stream",
     "text": [
      "<ipython-input-21-1a0682e3a233>:36: RuntimeWarning: invalid value encountered in sqrt\n",
      "  return self.H0*np.sqrt((ro_m_ro_d.roc(self,x) + ro_m_ro_d.rod(self,x)) + ro_m_ro_d.rob(self,x))\n"
     ]
    },
    {
     "name": "stdout",
     "output_type": "stream",
     "text": [
      "[mcmc] Progress @ 2021-08-13 22:51:15 : 11166 steps taken, and 34 accepted.\n"
     ]
    },
    {
     "name": "stderr",
     "output_type": "stream",
     "text": [
      "<ipython-input-21-1a0682e3a233>:36: RuntimeWarning: invalid value encountered in sqrt\n",
      "  return self.H0*np.sqrt((ro_m_ro_d.roc(self,x) + ro_m_ro_d.rod(self,x)) + ro_m_ro_d.rob(self,x))\n"
     ]
    },
    {
     "name": "stdout",
     "output_type": "stream",
     "text": [
      "[mcmc] Progress @ 2021-08-13 22:52:16 : 11723 steps taken, and 37 accepted.\n"
     ]
    },
    {
     "name": "stderr",
     "output_type": "stream",
     "text": [
      "<ipython-input-21-1a0682e3a233>:36: RuntimeWarning: invalid value encountered in sqrt\n",
      "  return self.H0*np.sqrt((ro_m_ro_d.roc(self,x) + ro_m_ro_d.rod(self,x)) + ro_m_ro_d.rob(self,x))\n"
     ]
    },
    {
     "name": "stdout",
     "output_type": "stream",
     "text": [
      "[mcmc] Progress @ 2021-08-13 22:53:16 : 12354 steps taken, and 39 accepted.\n"
     ]
    },
    {
     "name": "stderr",
     "output_type": "stream",
     "text": [
      "<ipython-input-21-1a0682e3a233>:36: RuntimeWarning: invalid value encountered in sqrt\n",
      "  return self.H0*np.sqrt((ro_m_ro_d.roc(self,x) + ro_m_ro_d.rod(self,x)) + ro_m_ro_d.rob(self,x))\n"
     ]
    },
    {
     "name": "stdout",
     "output_type": "stream",
     "text": [
      "[mcmc] Progress @ 2021-08-13 22:54:16 : 13020 steps taken, and 41 accepted.\n",
      "[mcmc] Progress @ 2021-08-13 22:55:16 : 13705 steps taken, and 41 accepted.\n",
      "[mcmc] Progress @ 2021-08-13 22:56:16 : 14334 steps taken, and 41 accepted.\n"
     ]
    },
    {
     "name": "stderr",
     "output_type": "stream",
     "text": [
      "<ipython-input-21-1a0682e3a233>:36: RuntimeWarning: invalid value encountered in sqrt\n",
      "  return self.H0*np.sqrt((ro_m_ro_d.roc(self,x) + ro_m_ro_d.rod(self,x)) + ro_m_ro_d.rob(self,x))\n"
     ]
    },
    {
     "name": "stdout",
     "output_type": "stream",
     "text": [
      "[mcmc] Progress @ 2021-08-13 22:57:17 : 14961 steps taken, and 45 accepted.\n"
     ]
    },
    {
     "name": "stderr",
     "output_type": "stream",
     "text": [
      "<ipython-input-21-1a0682e3a233>:36: RuntimeWarning: invalid value encountered in sqrt\n",
      "  return self.H0*np.sqrt((ro_m_ro_d.roc(self,x) + ro_m_ro_d.rod(self,x)) + ro_m_ro_d.rob(self,x))\n"
     ]
    },
    {
     "name": "stdout",
     "output_type": "stream",
     "text": [
      "[mcmc] Progress @ 2021-08-13 22:58:17 : 15649 steps taken, and 45 accepted.\n",
      "[mcmc] Progress @ 2021-08-13 22:59:17 : 16339 steps taken, and 48 accepted.\n"
     ]
    },
    {
     "name": "stderr",
     "output_type": "stream",
     "text": [
      "<ipython-input-21-1a0682e3a233>:36: RuntimeWarning: invalid value encountered in sqrt\n",
      "  return self.H0*np.sqrt((ro_m_ro_d.roc(self,x) + ro_m_ro_d.rod(self,x)) + ro_m_ro_d.rob(self,x))\n"
     ]
    },
    {
     "name": "stdout",
     "output_type": "stream",
     "text": [
      "[mcmc] Progress @ 2021-08-13 23:00:17 : 16938 steps taken, and 48 accepted.\n",
      "[mcmc] Progress @ 2021-08-13 23:01:17 : 17683 steps taken, and 50 accepted.\n"
     ]
    },
    {
     "name": "stderr",
     "output_type": "stream",
     "text": [
      "<ipython-input-21-1a0682e3a233>:36: RuntimeWarning: invalid value encountered in sqrt\n",
      "  return self.H0*np.sqrt((ro_m_ro_d.roc(self,x) + ro_m_ro_d.rod(self,x)) + ro_m_ro_d.rob(self,x))\n"
     ]
    },
    {
     "name": "stdout",
     "output_type": "stream",
     "text": [
      "[mcmc] Progress @ 2021-08-13 23:02:17 : 18474 steps taken, and 50 accepted.\n",
      "[mcmc] Progress @ 2021-08-13 23:03:18 : 19282 steps taken, and 52 accepted.\n"
     ]
    },
    {
     "name": "stderr",
     "output_type": "stream",
     "text": [
      "<ipython-input-21-1a0682e3a233>:36: RuntimeWarning: invalid value encountered in sqrt\n",
      "  return self.H0*np.sqrt((ro_m_ro_d.roc(self,x) + ro_m_ro_d.rod(self,x)) + ro_m_ro_d.rob(self,x))\n"
     ]
    },
    {
     "name": "stdout",
     "output_type": "stream",
     "text": [
      "[mcmc] Progress @ 2021-08-13 23:04:18 : 19964 steps taken, and 57 accepted.\n"
     ]
    },
    {
     "name": "stderr",
     "output_type": "stream",
     "text": [
      "<ipython-input-21-1a0682e3a233>:36: RuntimeWarning: invalid value encountered in sqrt\n",
      "  return self.H0*np.sqrt((ro_m_ro_d.roc(self,x) + ro_m_ro_d.rod(self,x)) + ro_m_ro_d.rob(self,x))\n"
     ]
    },
    {
     "name": "stdout",
     "output_type": "stream",
     "text": [
      "[mcmc] Progress @ 2021-08-13 23:05:18 : 20672 steps taken, and 59 accepted.\n"
     ]
    },
    {
     "name": "stderr",
     "output_type": "stream",
     "text": [
      "<ipython-input-21-1a0682e3a233>:36: RuntimeWarning: invalid value encountered in sqrt\n",
      "  return self.H0*np.sqrt((ro_m_ro_d.roc(self,x) + ro_m_ro_d.rod(self,x)) + ro_m_ro_d.rob(self,x))\n"
     ]
    },
    {
     "name": "stdout",
     "output_type": "stream",
     "text": [
      "[mcmc] Progress @ 2021-08-13 23:06:18 : 21336 steps taken, and 62 accepted.\n"
     ]
    },
    {
     "name": "stderr",
     "output_type": "stream",
     "text": [
      "<ipython-input-21-1a0682e3a233>:36: RuntimeWarning: invalid value encountered in sqrt\n",
      "  return self.H0*np.sqrt((ro_m_ro_d.roc(self,x) + ro_m_ro_d.rod(self,x)) + ro_m_ro_d.rob(self,x))\n"
     ]
    },
    {
     "name": "stdout",
     "output_type": "stream",
     "text": [
      "[mcmc] Progress @ 2021-08-13 23:07:18 : 21986 steps taken, and 62 accepted.\n",
      "[mcmc] Progress @ 2021-08-13 23:08:19 : 22586 steps taken, and 63 accepted.\n",
      "[mcmc] Progress @ 2021-08-13 23:09:19 : 23164 steps taken, and 67 accepted.\n"
     ]
    },
    {
     "name": "stderr",
     "output_type": "stream",
     "text": [
      "<ipython-input-21-1a0682e3a233>:36: RuntimeWarning: invalid value encountered in sqrt\n",
      "  return self.H0*np.sqrt((ro_m_ro_d.roc(self,x) + ro_m_ro_d.rod(self,x)) + ro_m_ro_d.rob(self,x))\n"
     ]
    },
    {
     "name": "stdout",
     "output_type": "stream",
     "text": [
      "[mcmc] Progress @ 2021-08-13 23:10:19 : 23790 steps taken, and 68 accepted.\n"
     ]
    },
    {
     "name": "stderr",
     "output_type": "stream",
     "text": [
      "<ipython-input-21-1a0682e3a233>:36: RuntimeWarning: invalid value encountered in sqrt\n",
      "  return self.H0*np.sqrt((ro_m_ro_d.roc(self,x) + ro_m_ro_d.rod(self,x)) + ro_m_ro_d.rob(self,x))\n"
     ]
    },
    {
     "name": "stdout",
     "output_type": "stream",
     "text": [
      "[mcmc] Progress @ 2021-08-13 23:11:19 : 24407 steps taken, and 71 accepted.\n"
     ]
    },
    {
     "name": "stderr",
     "output_type": "stream",
     "text": [
      "<ipython-input-21-1a0682e3a233>:36: RuntimeWarning: invalid value encountered in sqrt\n",
      "  return self.H0*np.sqrt((ro_m_ro_d.roc(self,x) + ro_m_ro_d.rod(self,x)) + ro_m_ro_d.rob(self,x))\n"
     ]
    },
    {
     "name": "stdout",
     "output_type": "stream",
     "text": [
      "[mcmc] Progress @ 2021-08-13 23:12:19 : 25000 steps taken, and 72 accepted.\n"
     ]
    },
    {
     "name": "stderr",
     "output_type": "stream",
     "text": [
      "<ipython-input-21-1a0682e3a233>:36: RuntimeWarning: invalid value encountered in sqrt\n",
      "  return self.H0*np.sqrt((ro_m_ro_d.roc(self,x) + ro_m_ro_d.rod(self,x)) + ro_m_ro_d.rob(self,x))\n"
     ]
    },
    {
     "name": "stdout",
     "output_type": "stream",
     "text": [
      "[mcmc] Progress @ 2021-08-13 23:13:20 : 25634 steps taken, and 74 accepted.\n"
     ]
    },
    {
     "name": "stderr",
     "output_type": "stream",
     "text": [
      "<ipython-input-21-1a0682e3a233>:36: RuntimeWarning: invalid value encountered in sqrt\n",
      "  return self.H0*np.sqrt((ro_m_ro_d.roc(self,x) + ro_m_ro_d.rod(self,x)) + ro_m_ro_d.rob(self,x))\n"
     ]
    },
    {
     "name": "stdout",
     "output_type": "stream",
     "text": [
      "[mcmc] Progress @ 2021-08-13 23:14:20 : 26428 steps taken, and 74 accepted.\n",
      "[mcmc] Progress @ 2021-08-13 23:15:20 : 27163 steps taken, and 75 accepted.\n",
      "[mcmc] Progress @ 2021-08-13 23:16:20 : 27869 steps taken, and 77 accepted.\n",
      "[mcmc] Progress @ 2021-08-13 23:17:20 : 28589 steps taken, and 77 accepted.\n"
     ]
    },
    {
     "name": "stderr",
     "output_type": "stream",
     "text": [
      "<ipython-input-21-1a0682e3a233>:36: RuntimeWarning: invalid value encountered in sqrt\n",
      "  return self.H0*np.sqrt((ro_m_ro_d.roc(self,x) + ro_m_ro_d.rod(self,x)) + ro_m_ro_d.rob(self,x))\n"
     ]
    },
    {
     "name": "stdout",
     "output_type": "stream",
     "text": [
      "[mcmc] Progress @ 2021-08-13 23:18:21 : 29287 steps taken, and 79 accepted.\n"
     ]
    },
    {
     "name": "stderr",
     "output_type": "stream",
     "text": [
      "<ipython-input-21-1a0682e3a233>:36: RuntimeWarning: invalid value encountered in sqrt\n",
      "  return self.H0*np.sqrt((ro_m_ro_d.roc(self,x) + ro_m_ro_d.rod(self,x)) + ro_m_ro_d.rob(self,x))\n"
     ]
    },
    {
     "name": "stdout",
     "output_type": "stream",
     "text": [
      "[mcmc] Progress @ 2021-08-13 23:19:21 : 29916 steps taken, and 80 accepted.\n"
     ]
    },
    {
     "name": "stderr",
     "output_type": "stream",
     "text": [
      "<ipython-input-21-1a0682e3a233>:36: RuntimeWarning: invalid value encountered in sqrt\n",
      "  return self.H0*np.sqrt((ro_m_ro_d.roc(self,x) + ro_m_ro_d.rod(self,x)) + ro_m_ro_d.rob(self,x))\n"
     ]
    },
    {
     "name": "stdout",
     "output_type": "stream",
     "text": [
      "[mcmc] Progress @ 2021-08-13 23:20:21 : 30538 steps taken, and 83 accepted.\n",
      "[mcmc] Progress @ 2021-08-13 23:21:21 : 31150 steps taken, and 86 accepted.\n"
     ]
    },
    {
     "name": "stderr",
     "output_type": "stream",
     "text": [
      "<ipython-input-21-1a0682e3a233>:36: RuntimeWarning: invalid value encountered in sqrt\n",
      "  return self.H0*np.sqrt((ro_m_ro_d.roc(self,x) + ro_m_ro_d.rod(self,x)) + ro_m_ro_d.rob(self,x))\n"
     ]
    },
    {
     "name": "stdout",
     "output_type": "stream",
     "text": [
      "[mcmc] Progress @ 2021-08-13 23:22:21 : 31804 steps taken, and 87 accepted.\n",
      "[mcmc] Progress @ 2021-08-13 23:23:22 : 32510 steps taken, and 89 accepted.\n"
     ]
    },
    {
     "name": "stderr",
     "output_type": "stream",
     "text": [
      "<ipython-input-21-1a0682e3a233>:36: RuntimeWarning: invalid value encountered in sqrt\n",
      "  return self.H0*np.sqrt((ro_m_ro_d.roc(self,x) + ro_m_ro_d.rod(self,x)) + ro_m_ro_d.rob(self,x))\n"
     ]
    },
    {
     "name": "stdout",
     "output_type": "stream",
     "text": [
      "[mcmc] Progress @ 2021-08-13 23:24:22 : 33242 steps taken, and 91 accepted.\n"
     ]
    },
    {
     "name": "stderr",
     "output_type": "stream",
     "text": [
      "<ipython-input-21-1a0682e3a233>:36: RuntimeWarning: invalid value encountered in sqrt\n",
      "  return self.H0*np.sqrt((ro_m_ro_d.roc(self,x) + ro_m_ro_d.rod(self,x)) + ro_m_ro_d.rob(self,x))\n"
     ]
    },
    {
     "name": "stdout",
     "output_type": "stream",
     "text": [
      "[mcmc] Progress @ 2021-08-13 23:25:22 : 34032 steps taken, and 92 accepted.\n"
     ]
    },
    {
     "name": "stderr",
     "output_type": "stream",
     "text": [
      "<ipython-input-21-1a0682e3a233>:36: RuntimeWarning: invalid value encountered in sqrt\n",
      "  return self.H0*np.sqrt((ro_m_ro_d.roc(self,x) + ro_m_ro_d.rod(self,x)) + ro_m_ro_d.rob(self,x))\n"
     ]
    },
    {
     "name": "stdout",
     "output_type": "stream",
     "text": [
      "[mcmc] Progress @ 2021-08-13 23:26:22 : 34743 steps taken, and 94 accepted.\n",
      "[mcmc] Progress @ 2021-08-13 23:27:22 : 35456 steps taken, and 94 accepted.\n"
     ]
    },
    {
     "name": "stderr",
     "output_type": "stream",
     "text": [
      "<ipython-input-21-1a0682e3a233>:36: RuntimeWarning: invalid value encountered in sqrt\n",
      "  return self.H0*np.sqrt((ro_m_ro_d.roc(self,x) + ro_m_ro_d.rod(self,x)) + ro_m_ro_d.rob(self,x))\n"
     ]
    },
    {
     "name": "stdout",
     "output_type": "stream",
     "text": [
      "[mcmc] Progress @ 2021-08-13 23:28:23 : 36175 steps taken, and 94 accepted.\n",
      "[mcmc] Progress @ 2021-08-13 23:29:23 : 36902 steps taken, and 95 accepted.\n"
     ]
    },
    {
     "name": "stderr",
     "output_type": "stream",
     "text": [
      "<ipython-input-21-1a0682e3a233>:36: RuntimeWarning: invalid value encountered in sqrt\n",
      "  return self.H0*np.sqrt((ro_m_ro_d.roc(self,x) + ro_m_ro_d.rod(self,x)) + ro_m_ro_d.rob(self,x))\n"
     ]
    },
    {
     "name": "stdout",
     "output_type": "stream",
     "text": [
      "[mcmc] Progress @ 2021-08-13 23:30:23 : 37586 steps taken, and 95 accepted.\n",
      "[mcmc] Progress @ 2021-08-13 23:31:23 : 38323 steps taken, and 95 accepted.\n",
      "[mcmc] Progress @ 2021-08-13 23:32:23 : 39078 steps taken, and 98 accepted.\n"
     ]
    },
    {
     "name": "stderr",
     "output_type": "stream",
     "text": [
      "<ipython-input-21-1a0682e3a233>:36: RuntimeWarning: invalid value encountered in sqrt\n",
      "  return self.H0*np.sqrt((ro_m_ro_d.roc(self,x) + ro_m_ro_d.rod(self,x)) + ro_m_ro_d.rob(self,x))\n"
     ]
    },
    {
     "name": "stdout",
     "output_type": "stream",
     "text": [
      "[mcmc] Progress @ 2021-08-13 23:33:23 : 39811 steps taken, and 100 accepted.\n",
      "[mcmc] Progress @ 2021-08-13 23:34:24 : 40573 steps taken, and 103 accepted.\n",
      "[mcmc] Progress @ 2021-08-13 23:35:24 : 41403 steps taken, and 104 accepted.\n"
     ]
    },
    {
     "name": "stderr",
     "output_type": "stream",
     "text": [
      "<ipython-input-21-1a0682e3a233>:36: RuntimeWarning: invalid value encountered in sqrt\n",
      "  return self.H0*np.sqrt((ro_m_ro_d.roc(self,x) + ro_m_ro_d.rod(self,x)) + ro_m_ro_d.rob(self,x))\n"
     ]
    },
    {
     "name": "stdout",
     "output_type": "stream",
     "text": [
      "[mcmc] Progress @ 2021-08-13 23:36:24 : 42186 steps taken, and 106 accepted.\n"
     ]
    },
    {
     "name": "stderr",
     "output_type": "stream",
     "text": [
      "<ipython-input-21-1a0682e3a233>:36: RuntimeWarning: invalid value encountered in sqrt\n",
      "  return self.H0*np.sqrt((ro_m_ro_d.roc(self,x) + ro_m_ro_d.rod(self,x)) + ro_m_ro_d.rob(self,x))\n"
     ]
    },
    {
     "name": "stdout",
     "output_type": "stream",
     "text": [
      "[mcmc] Progress @ 2021-08-13 23:37:24 : 42882 steps taken, and 106 accepted.\n",
      "[mcmc] Progress @ 2021-08-13 23:38:24 : 43670 steps taken, and 106 accepted.\n",
      "[mcmc] Progress @ 2021-08-13 23:39:25 : 44420 steps taken, and 107 accepted.\n"
     ]
    },
    {
     "name": "stderr",
     "output_type": "stream",
     "text": [
      "<ipython-input-21-1a0682e3a233>:36: RuntimeWarning: invalid value encountered in sqrt\n",
      "  return self.H0*np.sqrt((ro_m_ro_d.roc(self,x) + ro_m_ro_d.rod(self,x)) + ro_m_ro_d.rob(self,x))\n"
     ]
    },
    {
     "name": "stdout",
     "output_type": "stream",
     "text": [
      "[mcmc] Progress @ 2021-08-13 23:40:25 : 45175 steps taken, and 107 accepted.\n",
      "[mcmc] Progress @ 2021-08-13 23:41:25 : 45917 steps taken, and 108 accepted.\n"
     ]
    },
    {
     "name": "stderr",
     "output_type": "stream",
     "text": [
      "<ipython-input-21-1a0682e3a233>:36: RuntimeWarning: invalid value encountered in sqrt\n",
      "  return self.H0*np.sqrt((ro_m_ro_d.roc(self,x) + ro_m_ro_d.rod(self,x)) + ro_m_ro_d.rob(self,x))\n"
     ]
    },
    {
     "name": "stdout",
     "output_type": "stream",
     "text": [
      "[mcmc] Progress @ 2021-08-13 23:42:25 : 46624 steps taken, and 110 accepted.\n",
      "[mcmc] Progress @ 2021-08-13 23:43:25 : 47337 steps taken, and 112 accepted.\n"
     ]
    },
    {
     "name": "stderr",
     "output_type": "stream",
     "text": [
      "<ipython-input-21-1a0682e3a233>:36: RuntimeWarning: invalid value encountered in sqrt\n",
      "  return self.H0*np.sqrt((ro_m_ro_d.roc(self,x) + ro_m_ro_d.rod(self,x)) + ro_m_ro_d.rob(self,x))\n"
     ]
    },
    {
     "name": "stdout",
     "output_type": "stream",
     "text": [
      "[mcmc] Progress @ 2021-08-13 23:44:25 : 48156 steps taken, and 115 accepted.\n"
     ]
    },
    {
     "name": "stderr",
     "output_type": "stream",
     "text": [
      "<ipython-input-21-1a0682e3a233>:36: RuntimeWarning: invalid value encountered in sqrt\n",
      "  return self.H0*np.sqrt((ro_m_ro_d.roc(self,x) + ro_m_ro_d.rod(self,x)) + ro_m_ro_d.rob(self,x))\n"
     ]
    },
    {
     "name": "stdout",
     "output_type": "stream",
     "text": [
      "[mcmc] Progress @ 2021-08-13 23:45:25 : 48932 steps taken, and 115 accepted.\n",
      "[mcmc] Progress @ 2021-08-13 23:46:26 : 49785 steps taken, and 115 accepted.\n",
      "[mcmc] Progress @ 2021-08-13 23:47:26 : 50522 steps taken, and 115 accepted.\n",
      "[mcmc] Progress @ 2021-08-13 23:48:26 : 51365 steps taken, and 115 accepted.\n",
      "[mcmc] Progress @ 2021-08-13 23:49:26 : 52128 steps taken, and 116 accepted.\n"
     ]
    },
    {
     "name": "stderr",
     "output_type": "stream",
     "text": [
      "<ipython-input-21-1a0682e3a233>:36: RuntimeWarning: invalid value encountered in sqrt\n",
      "  return self.H0*np.sqrt((ro_m_ro_d.roc(self,x) + ro_m_ro_d.rod(self,x)) + ro_m_ro_d.rob(self,x))\n"
     ]
    },
    {
     "name": "stdout",
     "output_type": "stream",
     "text": [
      "[mcmc] Progress @ 2021-08-13 23:50:26 : 52849 steps taken, and 116 accepted.\n",
      "[mcmc] Progress @ 2021-08-13 23:51:26 : 53597 steps taken, and 117 accepted.\n"
     ]
    },
    {
     "name": "stderr",
     "output_type": "stream",
     "text": [
      "<ipython-input-21-1a0682e3a233>:36: RuntimeWarning: invalid value encountered in sqrt\n",
      "  return self.H0*np.sqrt((ro_m_ro_d.roc(self,x) + ro_m_ro_d.rod(self,x)) + ro_m_ro_d.rob(self,x))\n"
     ]
    },
    {
     "name": "stdout",
     "output_type": "stream",
     "text": [
      "[mcmc] Progress @ 2021-08-13 23:52:27 : 54394 steps taken, and 119 accepted.\n"
     ]
    },
    {
     "name": "stderr",
     "output_type": "stream",
     "text": [
      "<ipython-input-21-1a0682e3a233>:36: RuntimeWarning: invalid value encountered in sqrt\n",
      "  return self.H0*np.sqrt((ro_m_ro_d.roc(self,x) + ro_m_ro_d.rod(self,x)) + ro_m_ro_d.rob(self,x))\n"
     ]
    },
    {
     "name": "stdout",
     "output_type": "stream",
     "text": [
      "[mcmc] Progress @ 2021-08-13 23:53:27 : 55168 steps taken, and 120 accepted.\n"
     ]
    },
    {
     "name": "stderr",
     "output_type": "stream",
     "text": [
      "<ipython-input-21-1a0682e3a233>:36: RuntimeWarning: invalid value encountered in sqrt\n",
      "  return self.H0*np.sqrt((ro_m_ro_d.roc(self,x) + ro_m_ro_d.rod(self,x)) + ro_m_ro_d.rob(self,x))\n"
     ]
    },
    {
     "name": "stdout",
     "output_type": "stream",
     "text": [
      "[mcmc] Progress @ 2021-08-13 23:54:27 : 55872 steps taken, and 121 accepted.\n"
     ]
    },
    {
     "name": "stderr",
     "output_type": "stream",
     "text": [
      "<ipython-input-21-1a0682e3a233>:36: RuntimeWarning: invalid value encountered in sqrt\n",
      "  return self.H0*np.sqrt((ro_m_ro_d.roc(self,x) + ro_m_ro_d.rod(self,x)) + ro_m_ro_d.rob(self,x))\n"
     ]
    },
    {
     "name": "stdout",
     "output_type": "stream",
     "text": [
      "[mcmc] Progress @ 2021-08-13 23:55:27 : 56572 steps taken, and 122 accepted.\n"
     ]
    },
    {
     "name": "stderr",
     "output_type": "stream",
     "text": [
      "<ipython-input-21-1a0682e3a233>:36: RuntimeWarning: invalid value encountered in sqrt\n",
      "  return self.H0*np.sqrt((ro_m_ro_d.roc(self,x) + ro_m_ro_d.rod(self,x)) + ro_m_ro_d.rob(self,x))\n"
     ]
    },
    {
     "name": "stdout",
     "output_type": "stream",
     "text": [
      "[mcmc] Progress @ 2021-08-13 23:56:27 : 57393 steps taken, and 123 accepted.\n"
     ]
    },
    {
     "name": "stderr",
     "output_type": "stream",
     "text": [
      "<ipython-input-21-1a0682e3a233>:36: RuntimeWarning: invalid value encountered in sqrt\n",
      "  return self.H0*np.sqrt((ro_m_ro_d.roc(self,x) + ro_m_ro_d.rod(self,x)) + ro_m_ro_d.rob(self,x))\n"
     ]
    },
    {
     "name": "stdout",
     "output_type": "stream",
     "text": [
      "[mcmc] Progress @ 2021-08-13 23:57:28 : 58268 steps taken, and 125 accepted.\n"
     ]
    },
    {
     "name": "stderr",
     "output_type": "stream",
     "text": [
      "<ipython-input-21-1a0682e3a233>:36: RuntimeWarning: invalid value encountered in sqrt\n",
      "  return self.H0*np.sqrt((ro_m_ro_d.roc(self,x) + ro_m_ro_d.rod(self,x)) + ro_m_ro_d.rob(self,x))\n"
     ]
    },
    {
     "name": "stdout",
     "output_type": "stream",
     "text": [
      "[mcmc] Progress @ 2021-08-13 23:58:28 : 59037 steps taken, and 126 accepted.\n"
     ]
    },
    {
     "name": "stderr",
     "output_type": "stream",
     "text": [
      "<ipython-input-21-1a0682e3a233>:36: RuntimeWarning: invalid value encountered in sqrt\n",
      "  return self.H0*np.sqrt((ro_m_ro_d.roc(self,x) + ro_m_ro_d.rod(self,x)) + ro_m_ro_d.rob(self,x))\n"
     ]
    },
    {
     "name": "stdout",
     "output_type": "stream",
     "text": [
      "[mcmc] Progress @ 2021-08-13 23:59:28 : 59729 steps taken, and 128 accepted.\n"
     ]
    },
    {
     "name": "stderr",
     "output_type": "stream",
     "text": [
      "<ipython-input-21-1a0682e3a233>:36: RuntimeWarning: invalid value encountered in sqrt\n",
      "  return self.H0*np.sqrt((ro_m_ro_d.roc(self,x) + ro_m_ro_d.rod(self,x)) + ro_m_ro_d.rob(self,x))\n"
     ]
    },
    {
     "name": "stdout",
     "output_type": "stream",
     "text": [
      "[mcmc] Progress @ 2021-08-14 00:00:28 : 60495 steps taken, and 128 accepted.\n",
      "[mcmc] Progress @ 2021-08-14 00:01:28 : 61235 steps taken, and 128 accepted.\n",
      "[mcmc] Progress @ 2021-08-14 00:02:28 : 61971 steps taken, and 131 accepted.\n"
     ]
    },
    {
     "name": "stderr",
     "output_type": "stream",
     "text": [
      "<ipython-input-21-1a0682e3a233>:36: RuntimeWarning: invalid value encountered in sqrt\n",
      "  return self.H0*np.sqrt((ro_m_ro_d.roc(self,x) + ro_m_ro_d.rod(self,x)) + ro_m_ro_d.rob(self,x))\n"
     ]
    },
    {
     "name": "stdout",
     "output_type": "stream",
     "text": [
      "[mcmc] Progress @ 2021-08-14 00:03:29 : 62838 steps taken, and 133 accepted.\n",
      "[mcmc] Progress @ 2021-08-14 00:04:29 : 63653 steps taken, and 134 accepted.\n"
     ]
    },
    {
     "name": "stderr",
     "output_type": "stream",
     "text": [
      "<ipython-input-21-1a0682e3a233>:36: RuntimeWarning: invalid value encountered in sqrt\n",
      "  return self.H0*np.sqrt((ro_m_ro_d.roc(self,x) + ro_m_ro_d.rod(self,x)) + ro_m_ro_d.rob(self,x))\n"
     ]
    },
    {
     "name": "stdout",
     "output_type": "stream",
     "text": [
      "[mcmc] Progress @ 2021-08-14 00:05:29 : 64342 steps taken, and 135 accepted.\n"
     ]
    },
    {
     "name": "stderr",
     "output_type": "stream",
     "text": [
      "<ipython-input-21-1a0682e3a233>:36: RuntimeWarning: invalid value encountered in sqrt\n",
      "  return self.H0*np.sqrt((ro_m_ro_d.roc(self,x) + ro_m_ro_d.rod(self,x)) + ro_m_ro_d.rob(self,x))\n"
     ]
    },
    {
     "name": "stdout",
     "output_type": "stream",
     "text": [
      "[mcmc] Progress @ 2021-08-14 00:06:29 : 64978 steps taken, and 139 accepted.\n"
     ]
    },
    {
     "name": "stderr",
     "output_type": "stream",
     "text": [
      "<ipython-input-21-1a0682e3a233>:36: RuntimeWarning: invalid value encountered in sqrt\n",
      "  return self.H0*np.sqrt((ro_m_ro_d.roc(self,x) + ro_m_ro_d.rod(self,x)) + ro_m_ro_d.rob(self,x))\n"
     ]
    },
    {
     "name": "stdout",
     "output_type": "stream",
     "text": [
      "[mcmc] Progress @ 2021-08-14 00:07:29 : 65717 steps taken, and 139 accepted.\n",
      "[mcmc] Progress @ 2021-08-14 00:08:29 : 66493 steps taken, and 141 accepted.\n"
     ]
    },
    {
     "name": "stderr",
     "output_type": "stream",
     "text": [
      "<ipython-input-21-1a0682e3a233>:36: RuntimeWarning: invalid value encountered in sqrt\n",
      "  return self.H0*np.sqrt((ro_m_ro_d.roc(self,x) + ro_m_ro_d.rod(self,x)) + ro_m_ro_d.rob(self,x))\n"
     ]
    },
    {
     "name": "stdout",
     "output_type": "stream",
     "text": [
      "[mcmc] Progress @ 2021-08-14 00:09:30 : 67193 steps taken, and 142 accepted.\n"
     ]
    },
    {
     "name": "stderr",
     "output_type": "stream",
     "text": [
      "<ipython-input-21-1a0682e3a233>:36: RuntimeWarning: invalid value encountered in sqrt\n",
      "  return self.H0*np.sqrt((ro_m_ro_d.roc(self,x) + ro_m_ro_d.rod(self,x)) + ro_m_ro_d.rob(self,x))\n"
     ]
    },
    {
     "name": "stdout",
     "output_type": "stream",
     "text": [
      "[mcmc] Progress @ 2021-08-14 00:10:30 : 67864 steps taken, and 142 accepted.\n",
      "[mcmc] Progress @ 2021-08-14 00:11:30 : 68591 steps taken, and 142 accepted.\n",
      "[mcmc] Progress @ 2021-08-14 00:12:30 : 69281 steps taken, and 142 accepted.\n",
      "[mcmc] Progress @ 2021-08-14 00:13:30 : 69937 steps taken, and 142 accepted.\n",
      "[mcmc] Progress @ 2021-08-14 00:14:30 : 70565 steps taken, and 143 accepted.\n"
     ]
    },
    {
     "name": "stderr",
     "output_type": "stream",
     "text": [
      "<ipython-input-21-1a0682e3a233>:36: RuntimeWarning: invalid value encountered in sqrt\n",
      "  return self.H0*np.sqrt((ro_m_ro_d.roc(self,x) + ro_m_ro_d.rod(self,x)) + ro_m_ro_d.rob(self,x))\n"
     ]
    },
    {
     "name": "stdout",
     "output_type": "stream",
     "text": [
      "[mcmc] Progress @ 2021-08-14 00:15:30 : 71142 steps taken, and 144 accepted.\n",
      "[mcmc] Progress @ 2021-08-14 03:15:58 : 71412 steps taken, and 144 accepted.\n",
      "[mcmc] Progress @ 2021-08-14 09:31:12 : 71486 steps taken, and 144 accepted.\n"
     ]
    },
    {
     "name": "stderr",
     "output_type": "stream",
     "text": [
      "<ipython-input-21-1a0682e3a233>:36: RuntimeWarning: invalid value encountered in sqrt\n",
      "  return self.H0*np.sqrt((ro_m_ro_d.roc(self,x) + ro_m_ro_d.rod(self,x)) + ro_m_ro_d.rob(self,x))\n"
     ]
    },
    {
     "name": "stdout",
     "output_type": "stream",
     "text": [
      "[mcmc] Progress @ 2021-08-14 09:32:12 : 71997 steps taken, and 144 accepted.\n",
      "[mcmc] Progress @ 2021-08-14 09:33:13 : 72601 steps taken, and 144 accepted.\n",
      "[mcmc] Progress @ 2021-08-14 09:34:13 : 73194 steps taken, and 147 accepted.\n",
      "[mcmc] Progress @ 2021-08-14 09:35:13 : 73797 steps taken, and 149 accepted.\n"
     ]
    },
    {
     "name": "stderr",
     "output_type": "stream",
     "text": [
      "<ipython-input-21-1a0682e3a233>:36: RuntimeWarning: invalid value encountered in sqrt\n",
      "  return self.H0*np.sqrt((ro_m_ro_d.roc(self,x) + ro_m_ro_d.rod(self,x)) + ro_m_ro_d.rob(self,x))\n"
     ]
    },
    {
     "name": "stdout",
     "output_type": "stream",
     "text": [
      "[mcmc] Progress @ 2021-08-14 09:36:13 : 74423 steps taken, and 150 accepted.\n"
     ]
    },
    {
     "name": "stderr",
     "output_type": "stream",
     "text": [
      "<ipython-input-21-1a0682e3a233>:36: RuntimeWarning: invalid value encountered in sqrt\n",
      "  return self.H0*np.sqrt((ro_m_ro_d.roc(self,x) + ro_m_ro_d.rod(self,x)) + ro_m_ro_d.rob(self,x))\n"
     ]
    },
    {
     "name": "stdout",
     "output_type": "stream",
     "text": [
      "[mcmc] Progress @ 2021-08-14 09:37:13 : 75064 steps taken, and 151 accepted.\n"
     ]
    },
    {
     "name": "stderr",
     "output_type": "stream",
     "text": [
      "<ipython-input-21-1a0682e3a233>:36: RuntimeWarning: invalid value encountered in sqrt\n",
      "  return self.H0*np.sqrt((ro_m_ro_d.roc(self,x) + ro_m_ro_d.rod(self,x)) + ro_m_ro_d.rob(self,x))\n"
     ]
    },
    {
     "name": "stdout",
     "output_type": "stream",
     "text": [
      "[mcmc] Progress @ 2021-08-14 09:38:13 : 75596 steps taken, and 152 accepted.\n"
     ]
    },
    {
     "name": "stderr",
     "output_type": "stream",
     "text": [
      "<ipython-input-21-1a0682e3a233>:36: RuntimeWarning: invalid value encountered in sqrt\n",
      "  return self.H0*np.sqrt((ro_m_ro_d.roc(self,x) + ro_m_ro_d.rod(self,x)) + ro_m_ro_d.rob(self,x))\n"
     ]
    },
    {
     "name": "stdout",
     "output_type": "stream",
     "text": [
      "[mcmc] Progress @ 2021-08-14 09:39:13 : 76154 steps taken, and 152 accepted.\n",
      "[mcmc] Progress @ 2021-08-14 09:40:13 : 76840 steps taken, and 156 accepted.\n",
      "[mcmc] Progress @ 2021-08-14 09:41:13 : 77420 steps taken, and 157 accepted.\n"
     ]
    },
    {
     "name": "stderr",
     "output_type": "stream",
     "text": [
      "<ipython-input-21-1a0682e3a233>:36: RuntimeWarning: invalid value encountered in sqrt\n",
      "  return self.H0*np.sqrt((ro_m_ro_d.roc(self,x) + ro_m_ro_d.rod(self,x)) + ro_m_ro_d.rob(self,x))\n"
     ]
    },
    {
     "name": "stdout",
     "output_type": "stream",
     "text": [
      "[mcmc] Progress @ 2021-08-14 09:42:14 : 77986 steps taken, and 160 accepted.\n"
     ]
    },
    {
     "name": "stderr",
     "output_type": "stream",
     "text": [
      "<ipython-input-21-1a0682e3a233>:36: RuntimeWarning: invalid value encountered in sqrt\n",
      "  return self.H0*np.sqrt((ro_m_ro_d.roc(self,x) + ro_m_ro_d.rod(self,x)) + ro_m_ro_d.rob(self,x))\n"
     ]
    },
    {
     "name": "stdout",
     "output_type": "stream",
     "text": [
      "[mcmc] Progress @ 2021-08-14 09:43:14 : 78561 steps taken, and 160 accepted.\n",
      "[mcmc] Progress @ 2021-08-14 09:44:14 : 79132 steps taken, and 162 accepted.\n",
      "[mcmc] Progress @ 2021-08-14 09:45:14 : 79774 steps taken, and 164 accepted.\n"
     ]
    },
    {
     "name": "stderr",
     "output_type": "stream",
     "text": [
      "<ipython-input-21-1a0682e3a233>:36: RuntimeWarning: invalid value encountered in sqrt\n",
      "  return self.H0*np.sqrt((ro_m_ro_d.roc(self,x) + ro_m_ro_d.rod(self,x)) + ro_m_ro_d.rob(self,x))\n"
     ]
    },
    {
     "name": "stdout",
     "output_type": "stream",
     "text": [
      "[mcmc] Progress @ 2021-08-14 09:46:15 : 80355 steps taken, and 164 accepted.\n",
      "[mcmc] Progress @ 2021-08-14 09:47:15 : 80953 steps taken, and 164 accepted.\n",
      "[mcmc] Progress @ 2021-08-14 09:48:15 : 81580 steps taken, and 164 accepted.\n",
      "[mcmc] Progress @ 2021-08-14 09:49:15 : 82137 steps taken, and 164 accepted.\n",
      "[mcmc] Progress @ 2021-08-14 09:50:15 : 82722 steps taken, and 167 accepted.\n"
     ]
    },
    {
     "name": "stderr",
     "output_type": "stream",
     "text": [
      "<ipython-input-21-1a0682e3a233>:36: RuntimeWarning: invalid value encountered in sqrt\n",
      "  return self.H0*np.sqrt((ro_m_ro_d.roc(self,x) + ro_m_ro_d.rod(self,x)) + ro_m_ro_d.rob(self,x))\n"
     ]
    },
    {
     "name": "stdout",
     "output_type": "stream",
     "text": [
      "[mcmc] Progress @ 2021-08-14 09:51:15 : 83361 steps taken, and 167 accepted.\n",
      "[mcmc] Progress @ 2021-08-14 09:52:15 : 83956 steps taken, and 170 accepted.\n"
     ]
    },
    {
     "name": "stderr",
     "output_type": "stream",
     "text": [
      "<ipython-input-21-1a0682e3a233>:36: RuntimeWarning: invalid value encountered in sqrt\n",
      "  return self.H0*np.sqrt((ro_m_ro_d.roc(self,x) + ro_m_ro_d.rod(self,x)) + ro_m_ro_d.rob(self,x))\n"
     ]
    },
    {
     "name": "stdout",
     "output_type": "stream",
     "text": [
      "[mcmc] Progress @ 2021-08-14 09:53:16 : 84533 steps taken, and 170 accepted.\n",
      "[mcmc] Progress @ 2021-08-14 09:54:16 : 85129 steps taken, and 172 accepted.\n",
      "[mcmc] Progress @ 2021-08-14 09:55:16 : 85705 steps taken, and 173 accepted.\n"
     ]
    },
    {
     "name": "stderr",
     "output_type": "stream",
     "text": [
      "<ipython-input-21-1a0682e3a233>:36: RuntimeWarning: invalid value encountered in sqrt\n",
      "  return self.H0*np.sqrt((ro_m_ro_d.roc(self,x) + ro_m_ro_d.rod(self,x)) + ro_m_ro_d.rob(self,x))\n"
     ]
    },
    {
     "name": "stdout",
     "output_type": "stream",
     "text": [
      "[mcmc] Progress @ 2021-08-14 09:56:16 : 86321 steps taken, and 175 accepted.\n"
     ]
    },
    {
     "name": "stderr",
     "output_type": "stream",
     "text": [
      "<ipython-input-21-1a0682e3a233>:36: RuntimeWarning: invalid value encountered in sqrt\n",
      "  return self.H0*np.sqrt((ro_m_ro_d.roc(self,x) + ro_m_ro_d.rod(self,x)) + ro_m_ro_d.rob(self,x))\n"
     ]
    },
    {
     "name": "stdout",
     "output_type": "stream",
     "text": [
      "[mcmc] Progress @ 2021-08-14 09:57:16 : 86912 steps taken, and 175 accepted.\n",
      "[mcmc] Progress @ 2021-08-14 09:58:16 : 87566 steps taken, and 175 accepted.\n",
      "[mcmc] Progress @ 2021-08-14 09:59:17 : 88168 steps taken, and 177 accepted.\n"
     ]
    },
    {
     "name": "stderr",
     "output_type": "stream",
     "text": [
      "<ipython-input-21-1a0682e3a233>:36: RuntimeWarning: invalid value encountered in sqrt\n",
      "  return self.H0*np.sqrt((ro_m_ro_d.roc(self,x) + ro_m_ro_d.rod(self,x)) + ro_m_ro_d.rob(self,x))\n"
     ]
    },
    {
     "name": "stdout",
     "output_type": "stream",
     "text": [
      "[mcmc] Progress @ 2021-08-14 10:00:17 : 88758 steps taken, and 178 accepted.\n"
     ]
    },
    {
     "name": "stderr",
     "output_type": "stream",
     "text": [
      "<ipython-input-21-1a0682e3a233>:36: RuntimeWarning: invalid value encountered in sqrt\n",
      "  return self.H0*np.sqrt((ro_m_ro_d.roc(self,x) + ro_m_ro_d.rod(self,x)) + ro_m_ro_d.rob(self,x))\n"
     ]
    },
    {
     "name": "stdout",
     "output_type": "stream",
     "text": [
      "[mcmc] Progress @ 2021-08-14 10:01:17 : 89391 steps taken, and 179 accepted.\n"
     ]
    },
    {
     "name": "stderr",
     "output_type": "stream",
     "text": [
      "<ipython-input-21-1a0682e3a233>:36: RuntimeWarning: invalid value encountered in sqrt\n",
      "  return self.H0*np.sqrt((ro_m_ro_d.roc(self,x) + ro_m_ro_d.rod(self,x)) + ro_m_ro_d.rob(self,x))\n"
     ]
    },
    {
     "name": "stdout",
     "output_type": "stream",
     "text": [
      "[mcmc] Progress @ 2021-08-14 10:02:17 : 89968 steps taken, and 179 accepted.\n",
      "[mcmc] Progress @ 2021-08-14 10:03:17 : 90506 steps taken, and 179 accepted.\n",
      "[mcmc] Progress @ 2021-08-14 10:04:17 : 91032 steps taken, and 179 accepted.\n",
      "[mcmc] Progress @ 2021-08-14 10:05:18 : 91665 steps taken, and 179 accepted.\n",
      "[mcmc] Progress @ 2021-08-14 10:06:18 : 92248 steps taken, and 179 accepted.\n",
      "[mcmc] Progress @ 2021-08-14 10:07:18 : 92825 steps taken, and 179 accepted.\n",
      "[mcmc] Progress @ 2021-08-14 10:08:18 : 93469 steps taken, and 179 accepted.\n",
      "[mcmc] Progress @ 2021-08-14 10:09:18 : 94099 steps taken, and 180 accepted.\n"
     ]
    },
    {
     "name": "stderr",
     "output_type": "stream",
     "text": [
      "<ipython-input-21-1a0682e3a233>:36: RuntimeWarning: invalid value encountered in sqrt\n",
      "  return self.H0*np.sqrt((ro_m_ro_d.roc(self,x) + ro_m_ro_d.rod(self,x)) + ro_m_ro_d.rob(self,x))\n"
     ]
    },
    {
     "name": "stdout",
     "output_type": "stream",
     "text": [
      "[mcmc] Progress @ 2021-08-14 10:10:19 : 94685 steps taken, and 182 accepted.\n"
     ]
    },
    {
     "name": "stderr",
     "output_type": "stream",
     "text": [
      "<ipython-input-21-1a0682e3a233>:36: RuntimeWarning: invalid value encountered in sqrt\n",
      "  return self.H0*np.sqrt((ro_m_ro_d.roc(self,x) + ro_m_ro_d.rod(self,x)) + ro_m_ro_d.rob(self,x))\n"
     ]
    },
    {
     "name": "stdout",
     "output_type": "stream",
     "text": [
      "[mcmc] Progress @ 2021-08-14 10:11:19 : 95323 steps taken, and 182 accepted.\n",
      "[mcmc] Progress @ 2021-08-14 10:12:19 : 95869 steps taken, and 184 accepted.\n"
     ]
    },
    {
     "name": "stderr",
     "output_type": "stream",
     "text": [
      "<ipython-input-21-1a0682e3a233>:36: RuntimeWarning: invalid value encountered in sqrt\n",
      "  return self.H0*np.sqrt((ro_m_ro_d.roc(self,x) + ro_m_ro_d.rod(self,x)) + ro_m_ro_d.rob(self,x))\n"
     ]
    },
    {
     "name": "stdout",
     "output_type": "stream",
     "text": [
      "[mcmc] Progress @ 2021-08-14 10:13:19 : 96421 steps taken, and 186 accepted.\n",
      "[mcmc] Progress @ 2021-08-14 10:14:19 : 96921 steps taken, and 186 accepted.\n"
     ]
    },
    {
     "name": "stderr",
     "output_type": "stream",
     "text": [
      "<ipython-input-21-1a0682e3a233>:36: RuntimeWarning: invalid value encountered in sqrt\n",
      "  return self.H0*np.sqrt((ro_m_ro_d.roc(self,x) + ro_m_ro_d.rod(self,x)) + ro_m_ro_d.rob(self,x))\n"
     ]
    },
    {
     "name": "stdout",
     "output_type": "stream",
     "text": [
      "[mcmc] Progress @ 2021-08-14 10:15:20 : 97438 steps taken, and 187 accepted.\n"
     ]
    },
    {
     "name": "stderr",
     "output_type": "stream",
     "text": [
      "<ipython-input-21-1a0682e3a233>:36: RuntimeWarning: invalid value encountered in sqrt\n",
      "  return self.H0*np.sqrt((ro_m_ro_d.roc(self,x) + ro_m_ro_d.rod(self,x)) + ro_m_ro_d.rob(self,x))\n"
     ]
    },
    {
     "name": "stdout",
     "output_type": "stream",
     "text": [
      "[mcmc] Progress @ 2021-08-14 10:16:20 : 98048 steps taken, and 188 accepted.\n"
     ]
    },
    {
     "name": "stderr",
     "output_type": "stream",
     "text": [
      "<ipython-input-21-1a0682e3a233>:36: RuntimeWarning: invalid value encountered in sqrt\n",
      "  return self.H0*np.sqrt((ro_m_ro_d.roc(self,x) + ro_m_ro_d.rod(self,x)) + ro_m_ro_d.rob(self,x))\n"
     ]
    },
    {
     "name": "stdout",
     "output_type": "stream",
     "text": [
      "[mcmc] Progress @ 2021-08-14 10:17:20 : 98733 steps taken, and 189 accepted.\n"
     ]
    },
    {
     "name": "stderr",
     "output_type": "stream",
     "text": [
      "<ipython-input-21-1a0682e3a233>:36: RuntimeWarning: invalid value encountered in sqrt\n",
      "  return self.H0*np.sqrt((ro_m_ro_d.roc(self,x) + ro_m_ro_d.rod(self,x)) + ro_m_ro_d.rob(self,x))\n"
     ]
    },
    {
     "name": "stdout",
     "output_type": "stream",
     "text": [
      "[mcmc] Progress @ 2021-08-14 10:18:20 : 99411 steps taken, and 191 accepted.\n"
     ]
    },
    {
     "name": "stderr",
     "output_type": "stream",
     "text": [
      "<ipython-input-21-1a0682e3a233>:36: RuntimeWarning: invalid value encountered in sqrt\n",
      "  return self.H0*np.sqrt((ro_m_ro_d.roc(self,x) + ro_m_ro_d.rod(self,x)) + ro_m_ro_d.rob(self,x))\n"
     ]
    },
    {
     "name": "stdout",
     "output_type": "stream",
     "text": [
      "[mcmc] Progress @ 2021-08-14 10:19:20 : 99975 steps taken, and 191 accepted.\n",
      "[mcmc] Progress @ 2021-08-14 10:20:20 : 100641 steps taken, and 192 accepted.\n",
      "[mcmc] Progress @ 2021-08-14 10:21:21 : 101265 steps taken, and 193 accepted.\n"
     ]
    },
    {
     "name": "stderr",
     "output_type": "stream",
     "text": [
      "<ipython-input-21-1a0682e3a233>:36: RuntimeWarning: invalid value encountered in sqrt\n",
      "  return self.H0*np.sqrt((ro_m_ro_d.roc(self,x) + ro_m_ro_d.rod(self,x)) + ro_m_ro_d.rob(self,x))\n"
     ]
    },
    {
     "name": "stdout",
     "output_type": "stream",
     "text": [
      "[mcmc] Progress @ 2021-08-14 10:22:21 : 101869 steps taken, and 195 accepted.\n"
     ]
    },
    {
     "name": "stderr",
     "output_type": "stream",
     "text": [
      "<ipython-input-21-1a0682e3a233>:36: RuntimeWarning: invalid value encountered in sqrt\n",
      "  return self.H0*np.sqrt((ro_m_ro_d.roc(self,x) + ro_m_ro_d.rod(self,x)) + ro_m_ro_d.rob(self,x))\n"
     ]
    },
    {
     "name": "stdout",
     "output_type": "stream",
     "text": [
      "[mcmc] Progress @ 2021-08-14 10:23:21 : 102529 steps taken, and 195 accepted.\n",
      "[mcmc] Progress @ 2021-08-14 10:24:21 : 103170 steps taken, and 196 accepted.\n"
     ]
    },
    {
     "name": "stderr",
     "output_type": "stream",
     "text": [
      "<ipython-input-21-1a0682e3a233>:36: RuntimeWarning: invalid value encountered in sqrt\n",
      "  return self.H0*np.sqrt((ro_m_ro_d.roc(self,x) + ro_m_ro_d.rod(self,x)) + ro_m_ro_d.rob(self,x))\n"
     ]
    },
    {
     "name": "stdout",
     "output_type": "stream",
     "text": [
      "[mcmc] Progress @ 2021-08-14 10:25:21 : 103919 steps taken, and 197 accepted.\n"
     ]
    },
    {
     "name": "stderr",
     "output_type": "stream",
     "text": [
      "<ipython-input-21-1a0682e3a233>:36: RuntimeWarning: invalid value encountered in sqrt\n",
      "  return self.H0*np.sqrt((ro_m_ro_d.roc(self,x) + ro_m_ro_d.rod(self,x)) + ro_m_ro_d.rob(self,x))\n"
     ]
    },
    {
     "name": "stdout",
     "output_type": "stream",
     "text": [
      "[mcmc] Progress @ 2021-08-14 10:26:22 : 104510 steps taken, and 198 accepted.\n"
     ]
    },
    {
     "name": "stderr",
     "output_type": "stream",
     "text": [
      "<ipython-input-21-1a0682e3a233>:36: RuntimeWarning: invalid value encountered in sqrt\n",
      "  return self.H0*np.sqrt((ro_m_ro_d.roc(self,x) + ro_m_ro_d.rod(self,x)) + ro_m_ro_d.rob(self,x))\n"
     ]
    },
    {
     "name": "stdout",
     "output_type": "stream",
     "text": [
      "[mcmc] Progress @ 2021-08-14 10:27:22 : 105135 steps taken, and 200 accepted.\n"
     ]
    },
    {
     "name": "stderr",
     "output_type": "stream",
     "text": [
      "<ipython-input-21-1a0682e3a233>:36: RuntimeWarning: invalid value encountered in sqrt\n",
      "  return self.H0*np.sqrt((ro_m_ro_d.roc(self,x) + ro_m_ro_d.rod(self,x)) + ro_m_ro_d.rob(self,x))\n"
     ]
    },
    {
     "name": "stdout",
     "output_type": "stream",
     "text": [
      "[mcmc] Progress @ 2021-08-14 10:28:22 : 105753 steps taken, and 200 accepted.\n",
      "[mcmc] Progress @ 2021-08-14 10:29:22 : 106362 steps taken, and 200 accepted.\n",
      "[mcmc] Progress @ 2021-08-14 10:30:23 : 107024 steps taken, and 201 accepted.\n",
      "[mcmc] Progress @ 2021-08-14 10:31:23 : 107595 steps taken, and 201 accepted.\n",
      "[mcmc] Progress @ 2021-08-14 10:32:23 : 108255 steps taken, and 201 accepted.\n"
     ]
    },
    {
     "name": "stderr",
     "output_type": "stream",
     "text": [
      "<ipython-input-21-1a0682e3a233>:36: RuntimeWarning: invalid value encountered in sqrt\n",
      "  return self.H0*np.sqrt((ro_m_ro_d.roc(self,x) + ro_m_ro_d.rod(self,x)) + ro_m_ro_d.rob(self,x))\n"
     ]
    },
    {
     "name": "stdout",
     "output_type": "stream",
     "text": [
      "[mcmc] Progress @ 2021-08-14 10:33:23 : 108940 steps taken, and 201 accepted.\n",
      "[mcmc] Progress @ 2021-08-14 10:34:23 : 109604 steps taken, and 203 accepted.\n"
     ]
    },
    {
     "name": "stderr",
     "output_type": "stream",
     "text": [
      "<ipython-input-21-1a0682e3a233>:36: RuntimeWarning: invalid value encountered in sqrt\n",
      "  return self.H0*np.sqrt((ro_m_ro_d.roc(self,x) + ro_m_ro_d.rod(self,x)) + ro_m_ro_d.rob(self,x))\n"
     ]
    },
    {
     "name": "stdout",
     "output_type": "stream",
     "text": [
      "[mcmc] Progress @ 2021-08-14 10:35:23 : 110216 steps taken, and 203 accepted.\n",
      "[mcmc] Progress @ 2021-08-14 10:36:23 : 110888 steps taken, and 203 accepted.\n",
      "[mcmc] Progress @ 2021-08-14 10:37:23 : 111570 steps taken, and 204 accepted.\n"
     ]
    },
    {
     "name": "stderr",
     "output_type": "stream",
     "text": [
      "<ipython-input-21-1a0682e3a233>:36: RuntimeWarning: invalid value encountered in sqrt\n",
      "  return self.H0*np.sqrt((ro_m_ro_d.roc(self,x) + ro_m_ro_d.rod(self,x)) + ro_m_ro_d.rob(self,x))\n"
     ]
    },
    {
     "name": "stdout",
     "output_type": "stream",
     "text": [
      "[mcmc] Progress @ 2021-08-14 10:38:23 : 112182 steps taken, and 206 accepted.\n"
     ]
    },
    {
     "name": "stderr",
     "output_type": "stream",
     "text": [
      "<ipython-input-21-1a0682e3a233>:36: RuntimeWarning: invalid value encountered in sqrt\n",
      "  return self.H0*np.sqrt((ro_m_ro_d.roc(self,x) + ro_m_ro_d.rod(self,x)) + ro_m_ro_d.rob(self,x))\n"
     ]
    },
    {
     "name": "stdout",
     "output_type": "stream",
     "text": [
      "[mcmc] Progress @ 2021-08-14 10:39:24 : 112942 steps taken, and 207 accepted.\n"
     ]
    },
    {
     "name": "stderr",
     "output_type": "stream",
     "text": [
      "<ipython-input-21-1a0682e3a233>:36: RuntimeWarning: invalid value encountered in sqrt\n",
      "  return self.H0*np.sqrt((ro_m_ro_d.roc(self,x) + ro_m_ro_d.rod(self,x)) + ro_m_ro_d.rob(self,x))\n"
     ]
    },
    {
     "name": "stdout",
     "output_type": "stream",
     "text": [
      "[mcmc] Progress @ 2021-08-14 10:40:24 : 113629 steps taken, and 209 accepted.\n"
     ]
    },
    {
     "name": "stderr",
     "output_type": "stream",
     "text": [
      "<ipython-input-21-1a0682e3a233>:36: RuntimeWarning: invalid value encountered in sqrt\n",
      "  return self.H0*np.sqrt((ro_m_ro_d.roc(self,x) + ro_m_ro_d.rod(self,x)) + ro_m_ro_d.rob(self,x))\n"
     ]
    },
    {
     "name": "stdout",
     "output_type": "stream",
     "text": [
      "[mcmc] Progress @ 2021-08-14 10:41:24 : 114324 steps taken, and 212 accepted.\n"
     ]
    },
    {
     "name": "stderr",
     "output_type": "stream",
     "text": [
      "<ipython-input-21-1a0682e3a233>:36: RuntimeWarning: invalid value encountered in sqrt\n",
      "  return self.H0*np.sqrt((ro_m_ro_d.roc(self,x) + ro_m_ro_d.rod(self,x)) + ro_m_ro_d.rob(self,x))\n"
     ]
    },
    {
     "name": "stdout",
     "output_type": "stream",
     "text": [
      "[mcmc] Progress @ 2021-08-14 10:42:24 : 114951 steps taken, and 214 accepted.\n"
     ]
    },
    {
     "name": "stderr",
     "output_type": "stream",
     "text": [
      "<ipython-input-21-1a0682e3a233>:36: RuntimeWarning: invalid value encountered in sqrt\n",
      "  return self.H0*np.sqrt((ro_m_ro_d.roc(self,x) + ro_m_ro_d.rod(self,x)) + ro_m_ro_d.rob(self,x))\n"
     ]
    },
    {
     "name": "stdout",
     "output_type": "stream",
     "text": [
      "[mcmc] Progress @ 2021-08-14 10:43:24 : 115601 steps taken, and 215 accepted.\n",
      "[mcmc] Progress @ 2021-08-14 10:44:25 : 116216 steps taken, and 216 accepted.\n"
     ]
    },
    {
     "name": "stderr",
     "output_type": "stream",
     "text": [
      "<ipython-input-21-1a0682e3a233>:36: RuntimeWarning: invalid value encountered in sqrt\n",
      "  return self.H0*np.sqrt((ro_m_ro_d.roc(self,x) + ro_m_ro_d.rod(self,x)) + ro_m_ro_d.rob(self,x))\n"
     ]
    },
    {
     "name": "stdout",
     "output_type": "stream",
     "text": [
      "[mcmc] Progress @ 2021-08-14 10:45:25 : 116920 steps taken, and 216 accepted.\n",
      "[mcmc] Progress @ 2021-08-14 10:46:25 : 117555 steps taken, and 217 accepted.\n"
     ]
    },
    {
     "name": "stderr",
     "output_type": "stream",
     "text": [
      "<ipython-input-21-1a0682e3a233>:36: RuntimeWarning: invalid value encountered in sqrt\n",
      "  return self.H0*np.sqrt((ro_m_ro_d.roc(self,x) + ro_m_ro_d.rod(self,x)) + ro_m_ro_d.rob(self,x))\n"
     ]
    },
    {
     "name": "stdout",
     "output_type": "stream",
     "text": [
      "[mcmc] Progress @ 2021-08-14 10:47:25 : 118220 steps taken, and 218 accepted.\n",
      "[mcmc] Progress @ 2021-08-14 10:48:25 : 118966 steps taken, and 219 accepted.\n"
     ]
    },
    {
     "name": "stderr",
     "output_type": "stream",
     "text": [
      "<ipython-input-21-1a0682e3a233>:36: RuntimeWarning: invalid value encountered in sqrt\n",
      "  return self.H0*np.sqrt((ro_m_ro_d.roc(self,x) + ro_m_ro_d.rod(self,x)) + ro_m_ro_d.rob(self,x))\n"
     ]
    },
    {
     "name": "stdout",
     "output_type": "stream",
     "text": [
      "[mcmc] Progress @ 2021-08-14 10:49:25 : 119559 steps taken, and 221 accepted.\n"
     ]
    },
    {
     "name": "stderr",
     "output_type": "stream",
     "text": [
      "<ipython-input-21-1a0682e3a233>:36: RuntimeWarning: invalid value encountered in sqrt\n",
      "  return self.H0*np.sqrt((ro_m_ro_d.roc(self,x) + ro_m_ro_d.rod(self,x)) + ro_m_ro_d.rob(self,x))\n"
     ]
    },
    {
     "name": "stdout",
     "output_type": "stream",
     "text": [
      "[mcmc] Progress @ 2021-08-14 10:50:25 : 120230 steps taken, and 221 accepted.\n",
      "[mcmc] Progress @ 2021-08-14 10:51:25 : 120885 steps taken, and 221 accepted.\n",
      "[mcmc] Progress @ 2021-08-14 10:52:26 : 121625 steps taken, and 223 accepted.\n"
     ]
    },
    {
     "name": "stderr",
     "output_type": "stream",
     "text": [
      "<ipython-input-21-1a0682e3a233>:36: RuntimeWarning: invalid value encountered in sqrt\n",
      "  return self.H0*np.sqrt((ro_m_ro_d.roc(self,x) + ro_m_ro_d.rod(self,x)) + ro_m_ro_d.rob(self,x))\n"
     ]
    },
    {
     "name": "stdout",
     "output_type": "stream",
     "text": [
      "[mcmc] Progress @ 2021-08-14 10:53:26 : 122304 steps taken, and 225 accepted.\n"
     ]
    },
    {
     "name": "stderr",
     "output_type": "stream",
     "text": [
      "<ipython-input-21-1a0682e3a233>:36: RuntimeWarning: invalid value encountered in sqrt\n",
      "  return self.H0*np.sqrt((ro_m_ro_d.roc(self,x) + ro_m_ro_d.rod(self,x)) + ro_m_ro_d.rob(self,x))\n"
     ]
    },
    {
     "name": "stdout",
     "output_type": "stream",
     "text": [
      "[mcmc] Progress @ 2021-08-14 10:54:26 : 122947 steps taken, and 227 accepted.\n",
      "[mcmc] Progress @ 2021-08-14 10:55:26 : 123687 steps taken, and 230 accepted.\n"
     ]
    },
    {
     "name": "stderr",
     "output_type": "stream",
     "text": [
      "<ipython-input-21-1a0682e3a233>:36: RuntimeWarning: invalid value encountered in sqrt\n",
      "  return self.H0*np.sqrt((ro_m_ro_d.roc(self,x) + ro_m_ro_d.rod(self,x)) + ro_m_ro_d.rob(self,x))\n"
     ]
    },
    {
     "name": "stdout",
     "output_type": "stream",
     "text": [
      "[mcmc] Progress @ 2021-08-14 10:56:26 : 124369 steps taken, and 231 accepted.\n",
      "[mcmc] Progress @ 2021-08-14 10:57:26 : 125084 steps taken, and 234 accepted.\n"
     ]
    },
    {
     "name": "stderr",
     "output_type": "stream",
     "text": [
      "<ipython-input-21-1a0682e3a233>:36: RuntimeWarning: invalid value encountered in sqrt\n",
      "  return self.H0*np.sqrt((ro_m_ro_d.roc(self,x) + ro_m_ro_d.rod(self,x)) + ro_m_ro_d.rob(self,x))\n"
     ]
    },
    {
     "name": "stdout",
     "output_type": "stream",
     "text": [
      "[mcmc] Progress @ 2021-08-14 10:58:26 : 125736 steps taken, and 237 accepted.\n"
     ]
    },
    {
     "name": "stderr",
     "output_type": "stream",
     "text": [
      "<ipython-input-21-1a0682e3a233>:36: RuntimeWarning: invalid value encountered in sqrt\n",
      "  return self.H0*np.sqrt((ro_m_ro_d.roc(self,x) + ro_m_ro_d.rod(self,x)) + ro_m_ro_d.rob(self,x))\n"
     ]
    },
    {
     "name": "stdout",
     "output_type": "stream",
     "text": [
      "[mcmc] Progress @ 2021-08-14 10:59:26 : 126351 steps taken, and 239 accepted.\n"
     ]
    },
    {
     "name": "stderr",
     "output_type": "stream",
     "text": [
      "<ipython-input-21-1a0682e3a233>:36: RuntimeWarning: invalid value encountered in sqrt\n",
      "  return self.H0*np.sqrt((ro_m_ro_d.roc(self,x) + ro_m_ro_d.rod(self,x)) + ro_m_ro_d.rob(self,x))\n"
     ]
    },
    {
     "name": "stdout",
     "output_type": "stream",
     "text": [
      "[mcmc] Learn + convergence test @ 240 samples accepted.\n",
      "[mcmc]  - Acceptance rate: 0.002\n",
      "[mcmc]  - Convergence of means: R-1 = 12.828598 after 240 accepted steps\n",
      "[mcmc]  - Updated covariance matrix of proposal pdf.\n",
      "[mcmc] Progress @ 2021-08-14 11:00:27 : 126905 steps taken, and 248 accepted.\n",
      "[mcmc] Progress @ 2021-08-14 11:01:27 : 127092 steps taken, and 308 accepted.\n",
      "[mcmc] Progress @ 2021-08-14 11:02:27 : 127281 steps taken, and 366 accepted.\n",
      "[mcmc] Progress @ 2021-08-14 11:03:27 : 127462 steps taken, and 417 accepted.\n",
      "[mcmc] Progress @ 2021-08-14 11:04:27 : 127639 steps taken, and 467 accepted.\n",
      "[mcmc] Learn + convergence test @ 480 samples accepted.\n",
      "[mcmc]  - Acceptance rate: 0.004\n",
      "[mcmc]  - Convergence of means: R-1 = 14.958038 after 480 accepted steps\n",
      "[mcmc]  - Updated covariance matrix of proposal pdf.\n",
      "[mcmc] Progress @ 2021-08-14 11:05:27 : 127823 steps taken, and 528 accepted.\n",
      "[mcmc] Progress @ 2021-08-14 11:06:28 : 128008 steps taken, and 603 accepted.\n",
      "[mcmc] Progress @ 2021-08-14 11:07:28 : 128196 steps taken, and 678 accepted.\n",
      "[mcmc] Learn + convergence test @ 720 samples accepted.\n",
      "[mcmc]  - Acceptance rate: 0.006\n",
      "[mcmc]  - Convergence of means: R-1 = 4.181109 after 720 accepted steps\n",
      "[mcmc]  - Updated covariance matrix of proposal pdf.\n",
      "[mcmc] Progress @ 2021-08-14 11:08:28 : 128379 steps taken, and 750 accepted.\n",
      "[mcmc] Progress @ 2021-08-14 11:09:28 : 128561 steps taken, and 822 accepted.\n",
      "[mcmc] Progress @ 2021-08-14 11:10:28 : 128738 steps taken, and 910 accepted.\n",
      "[mcmc] Learn + convergence test @ 960 samples accepted.\n",
      "[mcmc]  - Acceptance rate: 0.007\n",
      "[mcmc]  - Convergence of means: R-1 = 2.138939 after 960 accepted steps\n",
      "[mcmc]  - Updated covariance matrix of proposal pdf.\n",
      "[mcmc] Progress @ 2021-08-14 11:11:29 : 128923 steps taken, and 990 accepted.\n",
      "[mcmc] Progress @ 2021-08-14 11:12:29 : 129106 steps taken, and 1066 accepted.\n",
      "[mcmc] Progress @ 2021-08-14 11:13:29 : 129282 steps taken, and 1139 accepted.\n",
      "[mcmc] Progress @ 2021-08-14 11:14:30 : 129441 steps taken, and 1198 accepted.\n",
      "[mcmc] Learn + convergence test @ 1200 samples accepted.\n",
      "[mcmc]  - Acceptance rate: 0.009\n",
      "[mcmc]  - Convergence of means: R-1 = 6.145114 after 1200 accepted steps\n",
      "[mcmc]  - Updated covariance matrix of proposal pdf.\n",
      "[mcmc] Progress @ 2021-08-14 11:15:30 : 129628 steps taken, and 1268 accepted.\n",
      "[mcmc] Progress @ 2021-08-14 11:16:30 : 129820 steps taken, and 1334 accepted.\n",
      "[mcmc] Progress @ 2021-08-14 11:17:30 : 130013 steps taken, and 1410 accepted.\n",
      "[mcmc] Learn + convergence test @ 1440 samples accepted.\n",
      "[mcmc]  - Acceptance rate: 0.011\n",
      "[mcmc]  - Convergence of means: R-1 = 1.826305 after 1440 accepted steps\n",
      "[mcmc]  - Updated covariance matrix of proposal pdf.\n",
      "[mcmc] Progress @ 2021-08-14 11:18:30 : 130206 steps taken, and 1463 accepted.\n",
      "[mcmc] Progress @ 2021-08-14 11:19:30 : 130374 steps taken, and 1519 accepted.\n",
      "[mcmc] Progress @ 2021-08-14 11:20:31 : 130550 steps taken, and 1582 accepted.\n",
      "[mcmc] Progress @ 2021-08-14 11:21:31 : 130727 steps taken, and 1633 accepted.\n",
      "[mcmc] Learn + convergence test @ 1680 samples accepted.\n",
      "[mcmc]  - Acceptance rate: 0.013\n",
      "[mcmc]  - Convergence of means: R-1 = 0.604501 after 1680 accepted steps\n",
      "[mcmc]  - Updated covariance matrix of proposal pdf.\n",
      "[mcmc] Progress @ 2021-08-14 11:22:31 : 130928 steps taken, and 1695 accepted.\n",
      "[mcmc] Progress @ 2021-08-14 11:23:31 : 131147 steps taken, and 1750 accepted.\n",
      "[mcmc] Progress @ 2021-08-14 11:24:31 : 131341 steps taken, and 1809 accepted.\n",
      "[mcmc] Progress @ 2021-08-14 11:25:32 : 131535 steps taken, and 1870 accepted.\n",
      "[mcmc] Learn + convergence test @ 1920 samples accepted.\n",
      "[mcmc]  - Acceptance rate: 0.015\n",
      "[mcmc]  - Convergence of means: R-1 = 1.707509 after 1920 accepted steps\n",
      "[mcmc]  - Updated covariance matrix of proposal pdf.\n",
      "[mcmc] Progress @ 2021-08-14 11:26:32 : 131727 steps taken, and 1944 accepted.\n",
      "[mcmc] Progress @ 2021-08-14 11:27:32 : 131921 steps taken, and 2017 accepted.\n",
      "[mcmc] Progress @ 2021-08-14 11:28:32 : 132110 steps taken, and 2074 accepted.\n",
      "[mcmc] Progress @ 2021-08-14 11:29:32 : 132296 steps taken, and 2144 accepted.\n",
      "[mcmc] Learn + convergence test @ 2160 samples accepted.\n",
      "[mcmc]  - Acceptance rate: 0.016\n",
      "[mcmc]  - Convergence of means: R-1 = 0.992726 after 2160 accepted steps\n",
      "[mcmc]  - Updated covariance matrix of proposal pdf.\n",
      "[mcmc] Progress @ 2021-08-14 11:30:32 : 132485 steps taken, and 2208 accepted.\n",
      "[mcmc] Progress @ 2021-08-14 11:31:32 : 132677 steps taken, and 2270 accepted.\n",
      "[mcmc] Progress @ 2021-08-14 11:32:33 : 132869 steps taken, and 2325 accepted.\n",
      "[mcmc] Progress @ 2021-08-14 11:33:33 : 133054 steps taken, and 2373 accepted.\n",
      "[mcmc] Learn + convergence test @ 2400 samples accepted.\n",
      "[mcmc]  - Acceptance rate: 0.018\n",
      "[mcmc]  - Convergence of means: R-1 = 0.893039 after 2400 accepted steps\n",
      "[mcmc]  - Updated covariance matrix of proposal pdf.\n",
      "[mcmc] Progress @ 2021-08-14 11:34:33 : 133258 steps taken, and 2428 accepted.\n",
      "[mcmc] Progress @ 2021-08-14 11:35:33 : 133448 steps taken, and 2478 accepted.\n",
      "[mcmc] Progress @ 2021-08-14 11:36:33 : 133668 steps taken, and 2528 accepted.\n",
      "[mcmc] Progress @ 2021-08-14 11:37:33 : 133859 steps taken, and 2561 accepted.\n",
      "[mcmc] Progress @ 2021-08-14 11:38:33 : 134036 steps taken, and 2604 accepted.\n",
      "[mcmc] Learn + convergence test @ 2640 samples accepted.\n",
      "[mcmc]  - Acceptance rate: 0.020\n",
      "[mcmc]  - Convergence of means: R-1 = 0.451819 after 2640 accepted steps\n",
      "[mcmc]  - Updated covariance matrix of proposal pdf.\n",
      "[mcmc] Progress @ 2021-08-14 11:39:34 : 134221 steps taken, and 2648 accepted.\n",
      "[mcmc] Progress @ 2021-08-14 11:40:34 : 134459 steps taken, and 2680 accepted.\n",
      "[mcmc] Progress @ 2021-08-14 11:41:34 : 134703 steps taken, and 2723 accepted.\n",
      "[mcmc] Progress @ 2021-08-14 11:42:34 : 134920 steps taken, and 2772 accepted.\n",
      "[mcmc] Progress @ 2021-08-14 11:43:35 : 135113 steps taken, and 2814 accepted.\n",
      "[mcmc] Progress @ 2021-08-14 11:44:35 : 135303 steps taken, and 2859 accepted.\n",
      "[mcmc] Learn + convergence test @ 2880 samples accepted.\n",
      "[mcmc]  - Acceptance rate: 0.021\n",
      "[mcmc]  - Convergence of means: R-1 = 0.514703 after 2880 accepted steps\n",
      "[mcmc]  - Updated covariance matrix of proposal pdf.\n",
      "[mcmc] Progress @ 2021-08-14 11:45:35 : 135497 steps taken, and 2914 accepted.\n",
      "[mcmc] Progress @ 2021-08-14 11:46:35 : 135701 steps taken, and 2963 accepted.\n",
      "[mcmc] Progress @ 2021-08-14 11:47:35 : 135909 steps taken, and 3013 accepted.\n",
      "[mcmc] Progress @ 2021-08-14 11:48:35 : 136116 steps taken, and 3064 accepted.\n",
      "[mcmc] Progress @ 2021-08-14 11:49:36 : 136327 steps taken, and 3110 accepted.\n",
      "[mcmc] Learn + convergence test @ 3120 samples accepted.\n",
      "[mcmc]  - Acceptance rate: 0.023\n",
      "[mcmc]  - Convergence of means: R-1 = 0.385110 after 3120 accepted steps\n",
      "[mcmc]  - Updated covariance matrix of proposal pdf.\n",
      "[mcmc] Progress @ 2021-08-14 11:50:36 : 136550 steps taken, and 3163 accepted.\n",
      "[mcmc] Progress @ 2021-08-14 11:51:36 : 136766 steps taken, and 3207 accepted.\n",
      "[mcmc] Progress @ 2021-08-14 11:52:37 : 136976 steps taken, and 3263 accepted.\n",
      "[mcmc] Progress @ 2021-08-14 11:53:37 : 137187 steps taken, and 3322 accepted.\n",
      "[mcmc] Learn + convergence test @ 3360 samples accepted.\n",
      "[mcmc]  - Acceptance rate: 0.024\n",
      "[mcmc]  - Convergence of means: R-1 = 0.170403 after 3360 accepted steps\n",
      "[mcmc]  - Updated covariance matrix of proposal pdf.\n",
      "[mcmc] Progress @ 2021-08-14 11:54:37 : 137382 steps taken, and 3368 accepted.\n",
      "[mcmc] Progress @ 2021-08-14 11:55:37 : 137580 steps taken, and 3416 accepted.\n",
      "[mcmc] Progress @ 2021-08-14 11:56:37 : 137782 steps taken, and 3473 accepted.\n",
      "[mcmc] Progress @ 2021-08-14 11:57:37 : 137997 steps taken, and 3520 accepted.\n",
      "[mcmc] Progress @ 2021-08-14 11:58:37 : 138241 steps taken, and 3572 accepted.\n",
      "[mcmc] Learn + convergence test @ 3600 samples accepted.\n",
      "[mcmc]  - Acceptance rate: 0.026\n",
      "[mcmc]  - Convergence of means: R-1 = 0.257331 after 3600 accepted steps\n",
      "[mcmc]  - Updated covariance matrix of proposal pdf.\n",
      "[mcmc] Progress @ 2021-08-14 11:59:38 : 138482 steps taken, and 3618 accepted.\n",
      "[mcmc] Progress @ 2021-08-14 12:00:38 : 138688 steps taken, and 3662 accepted.\n",
      "[mcmc] Progress @ 2021-08-14 12:01:38 : 138886 steps taken, and 3703 accepted.\n",
      "[mcmc] Progress @ 2021-08-14 12:02:38 : 139089 steps taken, and 3751 accepted.\n",
      "[mcmc] Progress @ 2021-08-14 12:03:38 : 139285 steps taken, and 3798 accepted.\n",
      "[mcmc] Progress @ 2021-08-14 12:04:39 : 139483 steps taken, and 3836 accepted.\n",
      "[mcmc] Learn + convergence test @ 3840 samples accepted.\n",
      "[mcmc]  - Acceptance rate: 0.028\n",
      "[mcmc]  - Convergence of means: R-1 = 0.169130 after 3840 accepted steps\n",
      "[mcmc]  - Updated covariance matrix of proposal pdf.\n",
      "[mcmc] Progress @ 2021-08-14 12:05:39 : 139684 steps taken, and 3881 accepted.\n",
      "[mcmc] Progress @ 2021-08-14 12:06:39 : 139904 steps taken, and 3926 accepted.\n",
      "[mcmc] Progress @ 2021-08-14 12:07:39 : 140158 steps taken, and 3974 accepted.\n",
      "[mcmc] Progress @ 2021-08-14 12:08:39 : 140392 steps taken, and 4004 accepted.\n",
      "[mcmc] Progress @ 2021-08-14 12:09:39 : 140600 steps taken, and 4053 accepted.\n",
      "[mcmc] Learn + convergence test @ 4080 samples accepted.\n",
      "[mcmc]  - Acceptance rate: 0.029\n",
      "[mcmc]  - Convergence of means: R-1 = 0.172755 after 4080 accepted steps\n",
      "[mcmc]  - Updated covariance matrix of proposal pdf.\n",
      "[mcmc] Progress @ 2021-08-14 12:10:39 : 140800 steps taken, and 4100 accepted.\n",
      "[mcmc] Progress @ 2021-08-14 12:11:40 : 141002 steps taken, and 4145 accepted.\n",
      "[mcmc] Progress @ 2021-08-14 12:12:40 : 141217 steps taken, and 4202 accepted.\n",
      "[mcmc] Progress @ 2021-08-14 12:13:40 : 141415 steps taken, and 4253 accepted.\n",
      "[mcmc] Progress @ 2021-08-14 12:14:40 : 141605 steps taken, and 4295 accepted.\n",
      "[mcmc] Learn + convergence test @ 4320 samples accepted.\n",
      "[mcmc]  - Acceptance rate: 0.030\n",
      "[mcmc]  - Convergence of means: R-1 = 0.057863 after 4320 accepted steps\n",
      "[mcmc]  - Updated covariance matrix of proposal pdf.\n",
      "[mcmc] Progress @ 2021-08-14 12:15:40 : 141821 steps taken, and 4343 accepted.\n",
      "[mcmc] Progress @ 2021-08-14 12:16:40 : 142035 steps taken, and 4394 accepted.\n",
      "[mcmc] Progress @ 2021-08-14 12:17:40 : 142245 steps taken, and 4444 accepted.\n",
      "[mcmc] Progress @ 2021-08-14 12:18:41 : 142444 steps taken, and 4483 accepted.\n",
      "[mcmc] Progress @ 2021-08-14 12:19:41 : 142656 steps taken, and 4527 accepted.\n",
      "[mcmc] Learn + convergence test @ 4560 samples accepted.\n",
      "[mcmc]  - Acceptance rate: 0.032\n",
      "[mcmc]  - Convergence of means: R-1 = 0.046246 after 4560 accepted steps\n",
      "[mcmc]  - Updated covariance matrix of proposal pdf.\n",
      "[mcmc] Progress @ 2021-08-14 12:20:41 : 142861 steps taken, and 4579 accepted.\n",
      "[mcmc] Progress @ 2021-08-14 12:21:41 : 143056 steps taken, and 4631 accepted.\n",
      "[mcmc] Progress @ 2021-08-14 12:22:41 : 143261 steps taken, and 4673 accepted.\n",
      "[mcmc] Progress @ 2021-08-14 15:23:19 : 143386 steps taken, and 4708 accepted.\n",
      "[mcmc] Progress @ 2021-08-14 20:24:12 : 143417 steps taken, and 4719 accepted.\n",
      "[mcmc] Progress @ 2021-08-14 20:25:13 : 143601 steps taken, and 4762 accepted.\n",
      "[mcmc] Learn + convergence test @ 4800 samples accepted.\n",
      "[mcmc]  - Acceptance rate: 0.033\n",
      "[mcmc]  - Convergence of means: R-1 = 0.055733 after 4800 accepted steps\n",
      "[mcmc]  - Updated covariance matrix of proposal pdf.\n",
      "[mcmc] Progress @ 2021-08-14 20:26:13 : 143783 steps taken, and 4806 accepted.\n",
      "[mcmc] Progress @ 2021-08-14 20:27:13 : 143971 steps taken, and 4845 accepted.\n",
      "[mcmc] Progress @ 2021-08-14 20:28:13 : 144160 steps taken, and 4888 accepted.\n",
      "[mcmc] Progress @ 2021-08-14 20:29:13 : 144341 steps taken, and 4918 accepted.\n",
      "[mcmc] Progress @ 2021-08-14 20:30:14 : 144537 steps taken, and 4952 accepted.\n",
      "[mcmc] Progress @ 2021-08-14 20:31:14 : 144742 steps taken, and 5005 accepted.\n",
      "[mcmc] Learn + convergence test @ 5040 samples accepted.\n",
      "[mcmc]  - Acceptance rate: 0.035\n",
      "[mcmc]  - Convergence of means: R-1 = 0.083515 after 5040 accepted steps\n",
      "[mcmc]  - Updated covariance matrix of proposal pdf.\n",
      "[mcmc] Progress @ 2021-08-14 20:32:14 : 144975 steps taken, and 5049 accepted.\n",
      "[mcmc] Progress @ 2021-08-14 20:33:14 : 145188 steps taken, and 5095 accepted.\n",
      "[mcmc] Progress @ 2021-08-14 20:34:14 : 145400 steps taken, and 5152 accepted.\n",
      "[mcmc] Progress @ 2021-08-14 20:35:15 : 145616 steps taken, and 5208 accepted.\n",
      "[mcmc] Progress @ 2021-08-14 20:36:15 : 145832 steps taken, and 5265 accepted.\n",
      "[mcmc] Learn + convergence test @ 5280 samples accepted.\n",
      "[mcmc]  - Acceptance rate: 0.036\n",
      "[mcmc]  - Convergence of means: R-1 = 0.053746 after 5280 accepted steps\n",
      "[mcmc]  - Updated covariance matrix of proposal pdf.\n",
      "[mcmc] Progress @ 2021-08-14 20:37:15 : 146047 steps taken, and 5326 accepted.\n",
      "[mcmc] Progress @ 2021-08-14 20:38:15 : 146339 steps taken, and 5363 accepted.\n",
      "[mcmc] Progress @ 2021-08-14 20:39:15 : 146564 steps taken, and 5418 accepted.\n",
      "[mcmc] Progress @ 2021-08-14 20:40:15 : 146787 steps taken, and 5479 accepted.\n",
      "[mcmc] Learn + convergence test @ 5520 samples accepted.\n",
      "[mcmc]  - Acceptance rate: 0.038\n",
      "[mcmc]  - Convergence of means: R-1 = 0.060637 after 5520 accepted steps\n",
      "[mcmc]  - Updated covariance matrix of proposal pdf.\n",
      "[mcmc] Progress @ 2021-08-14 20:41:15 : 147000 steps taken, and 5524 accepted.\n",
      "[mcmc] Progress @ 2021-08-14 20:42:15 : 147236 steps taken, and 5574 accepted.\n",
      "[mcmc] Progress @ 2021-08-14 20:43:15 : 147445 steps taken, and 5620 accepted.\n",
      "[mcmc] Progress @ 2021-08-14 20:44:16 : 147660 steps taken, and 5667 accepted.\n",
      "[mcmc] Progress @ 2021-08-14 20:45:16 : 147881 steps taken, and 5729 accepted.\n",
      "[mcmc] Learn + convergence test @ 5760 samples accepted.\n",
      "[mcmc]  - Acceptance rate: 0.039\n",
      "[mcmc]  - Convergence of means: R-1 = 0.091710 after 5760 accepted steps\n",
      "[mcmc]  - Updated covariance matrix of proposal pdf.\n",
      "[mcmc] Progress @ 2021-08-14 20:46:16 : 148105 steps taken, and 5779 accepted.\n",
      "[mcmc] Progress @ 2021-08-14 20:47:16 : 148316 steps taken, and 5841 accepted.\n",
      "[mcmc] Progress @ 2021-08-14 20:48:16 : 148543 steps taken, and 5889 accepted.\n",
      "[mcmc] Progress @ 2021-08-14 20:49:17 : 148735 steps taken, and 5943 accepted.\n",
      "[mcmc] Progress @ 2021-08-14 20:50:17 : 148965 steps taken, and 5992 accepted.\n",
      "[mcmc] Learn + convergence test @ 6000 samples accepted.\n",
      "[mcmc]  - Acceptance rate: 0.040\n",
      "[mcmc]  - Convergence of means: R-1 = 0.093565 after 6000 accepted steps\n",
      "[mcmc]  - Updated covariance matrix of proposal pdf.\n",
      "[mcmc] Progress @ 2021-08-14 20:51:17 : 149165 steps taken, and 6047 accepted.\n",
      "[mcmc] Progress @ 2021-08-14 20:52:17 : 149368 steps taken, and 6099 accepted.\n",
      "[mcmc] Progress @ 2021-08-14 20:53:17 : 149603 steps taken, and 6154 accepted.\n",
      "[mcmc] Progress @ 2021-08-14 20:54:17 : 149865 steps taken, and 6207 accepted.\n",
      "[mcmc] Learn + convergence test @ 6240 samples accepted.\n",
      "[mcmc]  - Acceptance rate: 0.042\n",
      "[mcmc]  - Convergence of means: R-1 = 0.078881 after 6240 accepted steps\n",
      "[mcmc]  - Updated covariance matrix of proposal pdf.\n",
      "[mcmc] Progress @ 2021-08-14 20:55:17 : 150084 steps taken, and 6249 accepted.\n",
      "[mcmc] Progress @ 2021-08-14 20:56:18 : 150315 steps taken, and 6302 accepted.\n",
      "[mcmc] Progress @ 2021-08-14 20:57:18 : 150552 steps taken, and 6352 accepted.\n",
      "[mcmc] Progress @ 2021-08-14 20:58:18 : 150783 steps taken, and 6390 accepted.\n",
      "[mcmc] Progress @ 2021-08-14 20:59:18 : 150982 steps taken, and 6447 accepted.\n",
      "[mcmc] Learn + convergence test @ 6480 samples accepted.\n",
      "[mcmc]  - Acceptance rate: 0.043\n",
      "[mcmc]  - Convergence of means: R-1 = 0.053580 after 6480 accepted steps\n",
      "[mcmc]  - Updated covariance matrix of proposal pdf.\n",
      "[mcmc] Progress @ 2021-08-14 21:00:18 : 151188 steps taken, and 6504 accepted.\n",
      "[mcmc] Progress @ 2021-08-14 21:01:19 : 151406 steps taken, and 6560 accepted.\n",
      "[mcmc] Progress @ 2021-08-14 21:02:19 : 151698 steps taken, and 6608 accepted.\n",
      "[mcmc] Progress @ 2021-08-14 21:03:19 : 151941 steps taken, and 6648 accepted.\n",
      "[mcmc] Progress @ 2021-08-14 21:04:19 : 152168 steps taken, and 6704 accepted.\n",
      "[mcmc] Learn + convergence test @ 6720 samples accepted.\n",
      "[mcmc]  - Acceptance rate: 0.044\n",
      "[mcmc]  - Convergence of means: R-1 = 0.062221 after 6720 accepted steps\n",
      "[mcmc]  - Updated covariance matrix of proposal pdf.\n",
      "[mcmc] Progress @ 2021-08-14 21:05:20 : 152398 steps taken, and 6756 accepted.\n",
      "[mcmc] Progress @ 2021-08-14 21:06:20 : 152615 steps taken, and 6801 accepted.\n",
      "[mcmc] Progress @ 2021-08-14 21:07:20 : 152851 steps taken, and 6856 accepted.\n",
      "[mcmc] Progress @ 2021-08-14 21:08:20 : 153062 steps taken, and 6907 accepted.\n",
      "[mcmc] Progress @ 2021-08-14 21:09:20 : 153321 steps taken, and 6951 accepted.\n",
      "[mcmc] Learn + convergence test @ 6960 samples accepted.\n",
      "[mcmc]  - Acceptance rate: 0.045\n",
      "[mcmc]  - Convergence of means: R-1 = 0.073719 after 6960 accepted steps\n",
      "[mcmc]  - Updated covariance matrix of proposal pdf.\n",
      "[mcmc] Progress @ 2021-08-14 21:10:20 : 153556 steps taken, and 7006 accepted.\n",
      "[mcmc] Progress @ 2021-08-14 21:11:20 : 153781 steps taken, and 7059 accepted.\n",
      "[mcmc] Progress @ 2021-08-14 21:12:20 : 154038 steps taken, and 7122 accepted.\n",
      "[mcmc] Progress @ 2021-08-14 21:13:20 : 154281 steps taken, and 7180 accepted.\n",
      "[mcmc] Learn + convergence test @ 7200 samples accepted.\n",
      "[mcmc]  - Acceptance rate: 0.047\n",
      "[mcmc]  - Convergence of means: R-1 = 0.072318 after 7200 accepted steps\n",
      "[mcmc]  - Updated covariance matrix of proposal pdf.\n",
      "[mcmc] Progress @ 2021-08-14 21:14:20 : 154509 steps taken, and 7221 accepted.\n",
      "[mcmc] Progress @ 2021-08-14 21:15:21 : 154712 steps taken, and 7276 accepted.\n",
      "[mcmc] Progress @ 2021-08-14 21:16:21 : 154928 steps taken, and 7327 accepted.\n",
      "[mcmc] Progress @ 2021-08-14 21:17:21 : 155152 steps taken, and 7376 accepted.\n",
      "[mcmc] Progress @ 2021-08-14 21:18:21 : 155373 steps taken, and 7438 accepted.\n",
      "[mcmc] Learn + convergence test @ 7440 samples accepted.\n",
      "[mcmc]  - Acceptance rate: 0.048\n",
      "[mcmc]  - Convergence of means: R-1 = 0.075960 after 7440 accepted steps\n",
      "[mcmc]  - Updated covariance matrix of proposal pdf.\n",
      "[mcmc] Progress @ 2021-08-14 21:19:21 : 155594 steps taken, and 7497 accepted.\n",
      "[mcmc] Progress @ 2021-08-14 21:20:21 : 155837 steps taken, and 7553 accepted.\n",
      "[mcmc] Progress @ 2021-08-14 21:21:21 : 156050 steps taken, and 7611 accepted.\n",
      "[mcmc] Progress @ 2021-08-14 21:22:22 : 156273 steps taken, and 7671 accepted.\n",
      "[mcmc] Learn + convergence test @ 7680 samples accepted.\n",
      "[mcmc]  - Acceptance rate: 0.049\n",
      "[mcmc]  - Convergence of means: R-1 = 0.061146 after 7680 accepted steps\n",
      "[mcmc]  - Updated covariance matrix of proposal pdf.\n",
      "[mcmc] Progress @ 2021-08-14 21:23:22 : 156467 steps taken, and 7713 accepted.\n",
      "[mcmc] Progress @ 2021-08-14 21:24:22 : 156630 steps taken, and 7751 accepted.\n",
      "[mcmc] Progress @ 2021-08-14 21:25:22 : 156857 steps taken, and 7803 accepted.\n",
      "[mcmc] Progress @ 2021-08-14 21:26:22 : 157070 steps taken, and 7856 accepted.\n",
      "[mcmc] Progress @ 2021-08-14 21:27:22 : 157302 steps taken, and 7907 accepted.\n",
      "[mcmc] Learn + convergence test @ 7920 samples accepted.\n",
      "[mcmc]  - Acceptance rate: 0.050\n",
      "[mcmc]  - Convergence of means: R-1 = 0.078608 after 7920 accepted steps\n",
      "[mcmc]  - Updated covariance matrix of proposal pdf.\n",
      "[mcmc] Progress @ 2021-08-14 21:28:22 : 157519 steps taken, and 7949 accepted.\n",
      "[mcmc] Progress @ 2021-08-14 21:29:23 : 157700 steps taken, and 8004 accepted.\n",
      "[mcmc] Progress @ 2021-08-14 21:30:23 : 157932 steps taken, and 8064 accepted.\n",
      "[mcmc] Progress @ 2021-08-14 21:31:23 : 158170 steps taken, and 8115 accepted.\n",
      "[mcmc] Learn + convergence test @ 8160 samples accepted.\n",
      "[mcmc]  - Acceptance rate: 0.052\n",
      "[mcmc]  - Convergence of means: R-1 = 0.084094 after 8160 accepted steps\n",
      "[mcmc]  - Updated covariance matrix of proposal pdf.\n",
      "[mcmc] Progress @ 2021-08-14 21:32:23 : 158390 steps taken, and 8163 accepted.\n",
      "[mcmc] Progress @ 2021-08-14 21:33:23 : 158619 steps taken, and 8221 accepted.\n",
      "[mcmc] Progress @ 2021-08-14 21:34:23 : 158874 steps taken, and 8274 accepted.\n",
      "[mcmc] Progress @ 2021-08-14 21:35:24 : 159151 steps taken, and 8332 accepted.\n",
      "[mcmc] Progress @ 2021-08-14 21:36:24 : 159378 steps taken, and 8380 accepted.\n",
      "[mcmc] Learn + convergence test @ 8400 samples accepted.\n",
      "[mcmc]  - Acceptance rate: 0.053\n",
      "[mcmc]  - Convergence of means: R-1 = 0.080058 after 8400 accepted steps\n",
      "[mcmc]  - Updated covariance matrix of proposal pdf.\n",
      "[mcmc] Progress @ 2021-08-14 21:37:24 : 159637 steps taken, and 8426 accepted.\n",
      "[mcmc] Progress @ 2021-08-14 21:38:24 : 159860 steps taken, and 8480 accepted.\n",
      "[mcmc] Progress @ 2021-08-14 21:39:24 : 160110 steps taken, and 8534 accepted.\n",
      "[mcmc] Progress @ 2021-08-14 21:40:24 : 160330 steps taken, and 8583 accepted.\n",
      "[mcmc] Progress @ 2021-08-14 21:41:24 : 160577 steps taken, and 8631 accepted.\n",
      "[mcmc] Learn + convergence test @ 8640 samples accepted.\n",
      "[mcmc]  - Acceptance rate: 0.054\n",
      "[mcmc]  - Convergence of means: R-1 = 0.072408 after 8640 accepted steps\n",
      "[mcmc]  - Updated covariance matrix of proposal pdf.\n",
      "[mcmc] Progress @ 2021-08-14 21:42:25 : 160808 steps taken, and 8674 accepted.\n",
      "[mcmc] Progress @ 2021-08-14 21:43:25 : 161060 steps taken, and 8718 accepted.\n",
      "[mcmc] Progress @ 2021-08-14 21:44:25 : 161274 steps taken, and 8763 accepted.\n",
      "[mcmc] Progress @ 2021-08-14 21:45:26 : 161477 steps taken, and 8817 accepted.\n",
      "[mcmc] Progress @ 2021-08-14 21:46:26 : 161670 steps taken, and 8863 accepted.\n",
      "[mcmc] Learn + convergence test @ 8880 samples accepted.\n",
      "[mcmc]  - Acceptance rate: 0.055\n",
      "[mcmc]  - Convergence of means: R-1 = 0.040292 after 8880 accepted steps\n",
      "[mcmc]  - Updated covariance matrix of proposal pdf.\n",
      "[mcmc] Progress @ 2021-08-14 21:47:26 : 161894 steps taken, and 8919 accepted.\n",
      "[mcmc] Progress @ 2021-08-14 21:48:26 : 162093 steps taken, and 8945 accepted.\n",
      "[mcmc] Progress @ 2021-08-14 21:49:26 : 162295 steps taken, and 8981 accepted.\n",
      "[mcmc] Progress @ 2021-08-14 21:50:26 : 162518 steps taken, and 9033 accepted.\n",
      "[mcmc] Progress @ 2021-08-14 21:51:27 : 162743 steps taken, and 9092 accepted.\n",
      "[mcmc] Learn + convergence test @ 9120 samples accepted.\n",
      "[mcmc]  - Acceptance rate: 0.056\n",
      "[mcmc]  - Convergence of means: R-1 = 0.037889 after 9120 accepted steps\n",
      "[mcmc]  - Updated covariance matrix of proposal pdf.\n",
      "[mcmc] Progress @ 2021-08-14 21:52:27 : 162944 steps taken, and 9127 accepted.\n"
     ]
    },
    {
     "ename": "KeyboardInterrupt",
     "evalue": "",
     "output_type": "error",
     "traceback": [
      "\u001b[1;31m---------------------------------------------------------------------------\u001b[0m",
      "\u001b[1;31mKeyboardInterrupt\u001b[0m                         Traceback (most recent call last)",
      "\u001b[1;32m<ipython-input-25-f2ef2a288f05>\u001b[0m in \u001b[0;36m<module>\u001b[1;34m\u001b[0m\n\u001b[0;32m      1\u001b[0m \u001b[1;32mfrom\u001b[0m \u001b[0mcobaya\u001b[0m\u001b[1;33m.\u001b[0m\u001b[0mrun\u001b[0m \u001b[1;32mimport\u001b[0m \u001b[0mrun\u001b[0m\u001b[1;33m\u001b[0m\u001b[1;33m\u001b[0m\u001b[0m\n\u001b[1;32m----> 2\u001b[1;33m \u001b[0mupdated_info\u001b[0m\u001b[1;33m,\u001b[0m \u001b[0msampler\u001b[0m \u001b[1;33m=\u001b[0m \u001b[0mrun\u001b[0m\u001b[1;33m(\u001b[0m\u001b[0minfo\u001b[0m\u001b[1;33m)\u001b[0m\u001b[1;33m\u001b[0m\u001b[1;33m\u001b[0m\u001b[0m\n\u001b[0m",
      "\u001b[1;32m~\\anaconda3\\lib\\site-packages\\cobaya\\run.py\u001b[0m in \u001b[0;36mrun\u001b[1;34m(info)\u001b[0m\n\u001b[0;32m    107\u001b[0m             \u001b[1;32mreturn\u001b[0m \u001b[0mupdated_info\u001b[0m\u001b[1;33m,\u001b[0m \u001b[0msampler\u001b[0m\u001b[1;33m\u001b[0m\u001b[1;33m\u001b[0m\u001b[0m\n\u001b[0;32m    108\u001b[0m         \u001b[1;31m# Run the sampler\u001b[0m\u001b[1;33m\u001b[0m\u001b[1;33m\u001b[0m\u001b[1;33m\u001b[0m\u001b[0m\n\u001b[1;32m--> 109\u001b[1;33m         \u001b[0msampler\u001b[0m\u001b[1;33m.\u001b[0m\u001b[0mrun\u001b[0m\u001b[1;33m(\u001b[0m\u001b[1;33m)\u001b[0m\u001b[1;33m\u001b[0m\u001b[1;33m\u001b[0m\u001b[0m\n\u001b[0m\u001b[0;32m    110\u001b[0m     \u001b[1;32mreturn\u001b[0m \u001b[0mupdated_info\u001b[0m\u001b[1;33m,\u001b[0m \u001b[0msampler\u001b[0m\u001b[1;33m\u001b[0m\u001b[1;33m\u001b[0m\u001b[0m\n\u001b[0;32m    111\u001b[0m \u001b[1;33m\u001b[0m\u001b[0m\n",
      "\u001b[1;32m~\\anaconda3\\lib\\site-packages\\cobaya\\sampler.py\u001b[0m in \u001b[0;36mrun\u001b[1;34m(self)\u001b[0m\n\u001b[0;32m    268\u001b[0m         \"\"\"\n\u001b[0;32m    269\u001b[0m         \u001b[0mself\u001b[0m\u001b[1;33m.\u001b[0m\u001b[0m_set_rng\u001b[0m\u001b[1;33m(\u001b[0m\u001b[1;33m)\u001b[0m\u001b[1;33m\u001b[0m\u001b[1;33m\u001b[0m\u001b[0m\n\u001b[1;32m--> 270\u001b[1;33m         \u001b[0mself\u001b[0m\u001b[1;33m.\u001b[0m\u001b[0m_run\u001b[0m\u001b[1;33m(\u001b[0m\u001b[1;33m)\u001b[0m\u001b[1;33m\u001b[0m\u001b[1;33m\u001b[0m\u001b[0m\n\u001b[0m\u001b[0;32m    271\u001b[0m         \u001b[0mself\u001b[0m\u001b[1;33m.\u001b[0m\u001b[0m_release_rng\u001b[0m\u001b[1;33m(\u001b[0m\u001b[1;33m)\u001b[0m\u001b[1;33m\u001b[0m\u001b[1;33m\u001b[0m\u001b[0m\n\u001b[0;32m    272\u001b[0m \u001b[1;33m\u001b[0m\u001b[0m\n",
      "\u001b[1;32m~\\anaconda3\\lib\\site-packages\\cobaya\\samplers\\mcmc\\mcmc.py\u001b[0m in \u001b[0;36m_run\u001b[1;34m(self)\u001b[0m\n\u001b[0;32m    340\u001b[0m         \u001b[0mlast_n\u001b[0m \u001b[1;33m=\u001b[0m \u001b[0mself\u001b[0m\u001b[1;33m.\u001b[0m\u001b[0mn\u001b[0m\u001b[1;33m(\u001b[0m\u001b[1;33m)\u001b[0m\u001b[1;33m\u001b[0m\u001b[1;33m\u001b[0m\u001b[0m\n\u001b[0;32m    341\u001b[0m         \u001b[1;32mwhile\u001b[0m \u001b[0mlast_n\u001b[0m \u001b[1;33m<\u001b[0m \u001b[0mself\u001b[0m\u001b[1;33m.\u001b[0m\u001b[0mmax_samples\u001b[0m \u001b[1;32mand\u001b[0m \u001b[1;32mnot\u001b[0m \u001b[0mself\u001b[0m\u001b[1;33m.\u001b[0m\u001b[0mconverged\u001b[0m\u001b[1;33m:\u001b[0m\u001b[1;33m\u001b[0m\u001b[1;33m\u001b[0m\u001b[0m\n\u001b[1;32m--> 342\u001b[1;33m             \u001b[0mself\u001b[0m\u001b[1;33m.\u001b[0m\u001b[0mget_new_sample\u001b[0m\u001b[1;33m(\u001b[0m\u001b[1;33m)\u001b[0m\u001b[1;33m\u001b[0m\u001b[1;33m\u001b[0m\u001b[0m\n\u001b[0m\u001b[0;32m    343\u001b[0m             \u001b[0mself\u001b[0m\u001b[1;33m.\u001b[0m\u001b[0mn_steps_raw\u001b[0m \u001b[1;33m+=\u001b[0m \u001b[1;36m1\u001b[0m\u001b[1;33m\u001b[0m\u001b[1;33m\u001b[0m\u001b[0m\n\u001b[0;32m    344\u001b[0m             \u001b[1;32mif\u001b[0m \u001b[0mself\u001b[0m\u001b[1;33m.\u001b[0m\u001b[0moutput_every\u001b[0m\u001b[1;33m.\u001b[0m\u001b[0munit\u001b[0m\u001b[1;33m:\u001b[0m\u001b[1;33m\u001b[0m\u001b[1;33m\u001b[0m\u001b[0m\n",
      "\u001b[1;32m~\\anaconda3\\lib\\site-packages\\cobaya\\samplers\\mcmc\\mcmc.py\u001b[0m in \u001b[0;36mget_new_sample_metropolis\u001b[1;34m(self)\u001b[0m\n\u001b[0;32m    403\u001b[0m         \u001b[1;32mtry\u001b[0m\u001b[1;33m:\u001b[0m\u001b[1;33m\u001b[0m\u001b[1;33m\u001b[0m\u001b[0m\n\u001b[0;32m    404\u001b[0m             \u001b[0mlogpost_trial\u001b[0m\u001b[1;33m,\u001b[0m \u001b[0mlogprior_trial\u001b[0m\u001b[1;33m,\u001b[0m \u001b[0mloglikes_trial\u001b[0m\u001b[1;33m,\u001b[0m \u001b[0mderived\u001b[0m \u001b[1;33m=\u001b[0m\u001b[0;31m \u001b[0m\u001b[0;31m\\\u001b[0m\u001b[1;33m\u001b[0m\u001b[1;33m\u001b[0m\u001b[0m\n\u001b[1;32m--> 405\u001b[1;33m                 \u001b[0mself\u001b[0m\u001b[1;33m.\u001b[0m\u001b[0mmodel\u001b[0m\u001b[1;33m.\u001b[0m\u001b[0mlogposterior\u001b[0m\u001b[1;33m(\u001b[0m\u001b[0mtrial\u001b[0m\u001b[1;33m)\u001b[0m\u001b[1;33m\u001b[0m\u001b[1;33m\u001b[0m\u001b[0m\n\u001b[0m\u001b[0;32m    406\u001b[0m         \u001b[1;32mexcept\u001b[0m\u001b[1;33m:\u001b[0m\u001b[1;33m\u001b[0m\u001b[1;33m\u001b[0m\u001b[0m\n\u001b[0;32m    407\u001b[0m             \u001b[0mself\u001b[0m\u001b[1;33m.\u001b[0m\u001b[0msend_error_signal\u001b[0m\u001b[1;33m(\u001b[0m\u001b[1;33m)\u001b[0m\u001b[1;33m\u001b[0m\u001b[1;33m\u001b[0m\u001b[0m\n",
      "\u001b[1;32m~\\anaconda3\\lib\\site-packages\\cobaya\\model.py\u001b[0m in \u001b[0;36mlogposterior\u001b[1;34m(self, params_values, return_derived, make_finite, cached)\u001b[0m\n\u001b[0;32m    405\u001b[0m         \u001b[0mlogpost\u001b[0m \u001b[1;33m=\u001b[0m \u001b[0msum\u001b[0m\u001b[1;33m(\u001b[0m\u001b[0mlogpriors\u001b[0m\u001b[1;33m)\u001b[0m\u001b[1;33m\u001b[0m\u001b[1;33m\u001b[0m\u001b[0m\n\u001b[0;32m    406\u001b[0m         \u001b[1;32mif\u001b[0m \u001b[1;33m-\u001b[0m\u001b[0mnp\u001b[0m\u001b[1;33m.\u001b[0m\u001b[0minf\u001b[0m \u001b[1;32mnot\u001b[0m \u001b[1;32min\u001b[0m \u001b[0mlogpriors\u001b[0m\u001b[1;33m:\u001b[0m\u001b[1;33m\u001b[0m\u001b[1;33m\u001b[0m\u001b[0m\n\u001b[1;32m--> 407\u001b[1;33m             like = self.loglikes(params_values, return_derived=return_derived,\n\u001b[0m\u001b[0;32m    408\u001b[0m                                  make_finite=make_finite, cached=cached, _no_check=True)\n\u001b[0;32m    409\u001b[0m             \u001b[0mloglikes\u001b[0m\u001b[1;33m,\u001b[0m \u001b[0mderived_sampler\u001b[0m \u001b[1;33m=\u001b[0m \u001b[0mlike\u001b[0m \u001b[1;32mif\u001b[0m \u001b[0mreturn_derived\u001b[0m \u001b[1;32melse\u001b[0m \u001b[1;33m(\u001b[0m\u001b[0mlike\u001b[0m\u001b[1;33m,\u001b[0m \u001b[1;33m[\u001b[0m\u001b[1;33m]\u001b[0m\u001b[1;33m)\u001b[0m\u001b[1;33m\u001b[0m\u001b[1;33m\u001b[0m\u001b[0m\n",
      "\u001b[1;32m~\\anaconda3\\lib\\site-packages\\cobaya\\model.py\u001b[0m in \u001b[0;36mloglikes\u001b[1;34m(self, params_values, return_derived, make_finite, cached, _no_check)\u001b[0m\n\u001b[0;32m    311\u001b[0m         \u001b[0minput_params\u001b[0m \u001b[1;33m=\u001b[0m \u001b[0mself\u001b[0m\u001b[1;33m.\u001b[0m\u001b[0mparameterization\u001b[0m\u001b[1;33m.\u001b[0m\u001b[0mto_input\u001b[0m\u001b[1;33m(\u001b[0m\u001b[0mparams_values\u001b[0m\u001b[1;33m,\u001b[0m \u001b[0mcopied\u001b[0m\u001b[1;33m=\u001b[0m\u001b[1;32mFalse\u001b[0m\u001b[1;33m)\u001b[0m\u001b[1;33m\u001b[0m\u001b[1;33m\u001b[0m\u001b[0m\n\u001b[0;32m    312\u001b[0m \u001b[1;33m\u001b[0m\u001b[0m\n\u001b[1;32m--> 313\u001b[1;33m         result = self.logps(input_params, return_derived=return_derived,\n\u001b[0m\u001b[0;32m    314\u001b[0m                             cached=cached, make_finite=make_finite)\n\u001b[0;32m    315\u001b[0m         \u001b[1;32mif\u001b[0m \u001b[0mreturn_derived\u001b[0m\u001b[1;33m:\u001b[0m\u001b[1;33m\u001b[0m\u001b[1;33m\u001b[0m\u001b[0m\n",
      "\u001b[1;32m~\\anaconda3\\lib\\site-packages\\cobaya\\model.py\u001b[0m in \u001b[0;36mlogps\u001b[1;34m(self, input_params, return_derived, cached, make_finite)\u001b[0m\n\u001b[0;32m    243\u001b[0m                 \u001b[1;33m[\u001b[0m\u001b[0minput_params\u001b[0m\u001b[1;33m[\u001b[0m\u001b[0mp\u001b[0m\u001b[1;33m]\u001b[0m \u001b[1;32mfor\u001b[0m \u001b[0mp\u001b[0m \u001b[1;32min\u001b[0m \u001b[0mparam_dep\u001b[0m\u001b[1;33m]\u001b[0m\u001b[1;33m\u001b[0m\u001b[1;33m\u001b[0m\u001b[0m\n\u001b[0;32m    244\u001b[0m             \u001b[0mparams\u001b[0m \u001b[1;33m=\u001b[0m \u001b[1;33m{\u001b[0m\u001b[0mp\u001b[0m\u001b[1;33m:\u001b[0m \u001b[0minput_params\u001b[0m\u001b[1;33m[\u001b[0m\u001b[0mp\u001b[0m\u001b[1;33m]\u001b[0m \u001b[1;32mfor\u001b[0m \u001b[0mp\u001b[0m \u001b[1;32min\u001b[0m \u001b[0mcomponent\u001b[0m\u001b[1;33m.\u001b[0m\u001b[0minput_params\u001b[0m\u001b[1;33m}\u001b[0m\u001b[1;33m\u001b[0m\u001b[1;33m\u001b[0m\u001b[0m\n\u001b[1;32m--> 245\u001b[1;33m             compute_success = component.check_cache_and_compute(\n\u001b[0m\u001b[0;32m    246\u001b[0m                 \u001b[0mwant_derived\u001b[0m\u001b[1;33m=\u001b[0m\u001b[0mreturn_derived\u001b[0m\u001b[1;33m,\u001b[0m\u001b[1;33m\u001b[0m\u001b[1;33m\u001b[0m\u001b[0m\n\u001b[0;32m    247\u001b[0m                 \u001b[0mdependency_params\u001b[0m\u001b[1;33m=\u001b[0m\u001b[0mdepend_list\u001b[0m\u001b[1;33m,\u001b[0m\u001b[1;33m\u001b[0m\u001b[1;33m\u001b[0m\u001b[0m\n",
      "\u001b[1;32m~\\anaconda3\\lib\\site-packages\\cobaya\\theory.py\u001b[0m in \u001b[0;36mcheck_cache_and_compute\u001b[1;34m(self, dependency_params, want_derived, cached, **params_values_dict)\u001b[0m\n\u001b[0;32m    247\u001b[0m                 \u001b[0mself\u001b[0m\u001b[1;33m.\u001b[0m\u001b[0mtimer\u001b[0m\u001b[1;33m.\u001b[0m\u001b[0mstart\u001b[0m\u001b[1;33m(\u001b[0m\u001b[1;33m)\u001b[0m\u001b[1;33m\u001b[0m\u001b[1;33m\u001b[0m\u001b[0m\n\u001b[0;32m    248\u001b[0m             \u001b[1;32mtry\u001b[0m\u001b[1;33m:\u001b[0m\u001b[1;33m\u001b[0m\u001b[1;33m\u001b[0m\u001b[0m\n\u001b[1;32m--> 249\u001b[1;33m                 \u001b[1;32mif\u001b[0m \u001b[0mself\u001b[0m\u001b[1;33m.\u001b[0m\u001b[0mcalculate\u001b[0m\u001b[1;33m(\u001b[0m\u001b[0mstate\u001b[0m\u001b[1;33m,\u001b[0m \u001b[0mwant_derived\u001b[0m\u001b[1;33m,\u001b[0m \u001b[1;33m**\u001b[0m\u001b[0mparams_values_dict\u001b[0m\u001b[1;33m)\u001b[0m \u001b[1;32mis\u001b[0m \u001b[1;32mFalse\u001b[0m\u001b[1;33m:\u001b[0m\u001b[1;33m\u001b[0m\u001b[1;33m\u001b[0m\u001b[0m\n\u001b[0m\u001b[0;32m    250\u001b[0m                     \u001b[1;32mreturn\u001b[0m \u001b[1;32mFalse\u001b[0m\u001b[1;33m\u001b[0m\u001b[1;33m\u001b[0m\u001b[0m\n\u001b[0;32m    251\u001b[0m             \u001b[1;32mexcept\u001b[0m \u001b[0malways_stop_exceptions\u001b[0m\u001b[1;33m:\u001b[0m\u001b[1;33m\u001b[0m\u001b[1;33m\u001b[0m\u001b[0m\n",
      "\u001b[1;32m~\\anaconda3\\lib\\site-packages\\cobaya\\likelihood.py\u001b[0m in \u001b[0;36mcalculate\u001b[1;34m(self, state, want_derived, **params_values_dict)\u001b[0m\n\u001b[0;32m    122\u001b[0m         \u001b[0mderived\u001b[0m \u001b[1;33m=\u001b[0m \u001b[1;33m{\u001b[0m\u001b[1;33m}\u001b[0m \u001b[1;32mif\u001b[0m \u001b[0mwant_derived\u001b[0m \u001b[1;32melse\u001b[0m \u001b[1;32mNone\u001b[0m\u001b[1;33m\u001b[0m\u001b[1;33m\u001b[0m\u001b[0m\n\u001b[0;32m    123\u001b[0m         \u001b[0mstate\u001b[0m\u001b[1;33m[\u001b[0m\u001b[1;34m\"logp\"\u001b[0m\u001b[1;33m]\u001b[0m \u001b[1;33m=\u001b[0m \u001b[1;33m-\u001b[0m\u001b[0mnp\u001b[0m\u001b[1;33m.\u001b[0m\u001b[0minf\u001b[0m  \u001b[1;31m# in case of exception\u001b[0m\u001b[1;33m\u001b[0m\u001b[1;33m\u001b[0m\u001b[0m\n\u001b[1;32m--> 124\u001b[1;33m         \u001b[0mstate\u001b[0m\u001b[1;33m[\u001b[0m\u001b[1;34m\"logp\"\u001b[0m\u001b[1;33m]\u001b[0m \u001b[1;33m=\u001b[0m \u001b[0mself\u001b[0m\u001b[1;33m.\u001b[0m\u001b[0mlogp\u001b[0m\u001b[1;33m(\u001b[0m\u001b[0m_derived\u001b[0m\u001b[1;33m=\u001b[0m\u001b[0mderived\u001b[0m\u001b[1;33m,\u001b[0m \u001b[1;33m**\u001b[0m\u001b[0mparams_values_dict\u001b[0m\u001b[1;33m)\u001b[0m\u001b[1;33m\u001b[0m\u001b[1;33m\u001b[0m\u001b[0m\n\u001b[0m\u001b[0;32m    125\u001b[0m         \u001b[0mself\u001b[0m\u001b[1;33m.\u001b[0m\u001b[0mlog\u001b[0m\u001b[1;33m.\u001b[0m\u001b[0mdebug\u001b[0m\u001b[1;33m(\u001b[0m\u001b[1;34m\"Computed log-likelihood = %g\"\u001b[0m\u001b[1;33m,\u001b[0m \u001b[0mstate\u001b[0m\u001b[1;33m[\u001b[0m\u001b[1;34m\"logp\"\u001b[0m\u001b[1;33m]\u001b[0m\u001b[1;33m)\u001b[0m\u001b[1;33m\u001b[0m\u001b[1;33m\u001b[0m\u001b[0m\n\u001b[0;32m    126\u001b[0m         \u001b[1;32mif\u001b[0m \u001b[0mwant_derived\u001b[0m\u001b[1;33m:\u001b[0m\u001b[1;33m\u001b[0m\u001b[1;33m\u001b[0m\u001b[0m\n",
      "\u001b[1;32m~\\anaconda3\\lib\\site-packages\\cobaya\\likelihood.py\u001b[0m in \u001b[0;36mlogp\u001b[1;34m(self, **params_values)\u001b[0m\n\u001b[0;32m    215\u001b[0m         \u001b[1;31m# END OF DEPRECATION BLOCK\u001b[0m\u001b[1;33m\u001b[0m\u001b[1;33m\u001b[0m\u001b[1;33m\u001b[0m\u001b[0m\n\u001b[0;32m    216\u001b[0m         \u001b[1;32mtry\u001b[0m\u001b[1;33m:\u001b[0m\u001b[1;33m\u001b[0m\u001b[1;33m\u001b[0m\u001b[0m\n\u001b[1;32m--> 217\u001b[1;33m             \u001b[0mreturn_value\u001b[0m \u001b[1;33m=\u001b[0m \u001b[0mself\u001b[0m\u001b[1;33m.\u001b[0m\u001b[0mexternal_function\u001b[0m\u001b[1;33m(\u001b[0m\u001b[1;33m**\u001b[0m\u001b[0mparams_values\u001b[0m\u001b[1;33m)\u001b[0m\u001b[1;33m\u001b[0m\u001b[1;33m\u001b[0m\u001b[0m\n\u001b[0m\u001b[0;32m    218\u001b[0m         \u001b[1;32mexcept\u001b[0m\u001b[1;33m:\u001b[0m\u001b[1;33m\u001b[0m\u001b[1;33m\u001b[0m\u001b[0m\n\u001b[0;32m    219\u001b[0m             \u001b[0mself\u001b[0m\u001b[1;33m.\u001b[0m\u001b[0mlog\u001b[0m\u001b[1;33m.\u001b[0m\u001b[0mdebug\u001b[0m\u001b[1;33m(\u001b[0m\u001b[1;34m\"External function failed at evaluation.\"\u001b[0m\u001b[1;33m)\u001b[0m\u001b[1;33m\u001b[0m\u001b[1;33m\u001b[0m\u001b[0m\n",
      "\u001b[1;32m<ipython-input-23-61e1096e1de4>\u001b[0m in \u001b[0;36mmy_like\u001b[1;34m(b, alpha, w0, oc0h2, M, H0)\u001b[0m\n\u001b[0;32m    119\u001b[0m \u001b[1;32mdef\u001b[0m \u001b[0mmy_like\u001b[0m\u001b[1;33m(\u001b[0m\u001b[0mb\u001b[0m\u001b[1;33m,\u001b[0m \u001b[0malpha\u001b[0m\u001b[1;33m,\u001b[0m \u001b[0mw0\u001b[0m\u001b[1;33m,\u001b[0m \u001b[0moc0h2\u001b[0m\u001b[1;33m,\u001b[0m \u001b[0mM\u001b[0m\u001b[1;33m,\u001b[0m \u001b[0mH0\u001b[0m\u001b[1;33m)\u001b[0m\u001b[1;33m:\u001b[0m\u001b[1;33m\u001b[0m\u001b[1;33m\u001b[0m\u001b[0m\n\u001b[0;32m    120\u001b[0m     \u001b[0mobj\u001b[0m   \u001b[1;33m=\u001b[0m \u001b[0mro_m_ro_d\u001b[0m\u001b[1;33m(\u001b[0m\u001b[0mb\u001b[0m\u001b[1;33m,\u001b[0m \u001b[0malpha\u001b[0m\u001b[1;33m,\u001b[0m \u001b[0mw0\u001b[0m\u001b[1;33m,\u001b[0m \u001b[0moc0h2\u001b[0m\u001b[1;33m,\u001b[0m \u001b[0mM\u001b[0m\u001b[1;33m,\u001b[0m \u001b[0mH0\u001b[0m\u001b[1;33m)\u001b[0m\u001b[1;33m\u001b[0m\u001b[1;33m\u001b[0m\u001b[0m\n\u001b[1;32m--> 121\u001b[1;33m     \u001b[1;32mreturn\u001b[0m \u001b[0mobj\u001b[0m\u001b[1;33m.\u001b[0m\u001b[0mmodloglike\u001b[0m\u001b[1;33m(\u001b[0m\u001b[0mz1\u001b[0m\u001b[1;33m,\u001b[0m\u001b[0mmu\u001b[0m\u001b[1;33m,\u001b[0m\u001b[0mco1\u001b[0m\u001b[1;33m)\u001b[0m \u001b[1;33m+\u001b[0m \u001b[0mobj\u001b[0m\u001b[1;33m.\u001b[0m\u001b[0mdcdhloglike\u001b[0m\u001b[1;33m(\u001b[0m\u001b[0mz5\u001b[0m\u001b[1;33m,\u001b[0m \u001b[0mdc\u001b[0m\u001b[1;33m,\u001b[0m \u001b[0mdh\u001b[0m\u001b[1;33m,\u001b[0m \u001b[0mc5\u001b[0m\u001b[1;33m)\u001b[0m \u001b[1;33m+\u001b[0m \u001b[0mobj\u001b[0m\u001b[1;33m.\u001b[0m\u001b[0mhloglike\u001b[0m\u001b[1;33m(\u001b[0m\u001b[0mz6\u001b[0m\u001b[1;33m,\u001b[0m \u001b[0my6\u001b[0m\u001b[1;33m,\u001b[0m \u001b[0myerr6\u001b[0m\u001b[1;33m)\u001b[0m \u001b[1;33m+\u001b[0m \u001b[0mobj\u001b[0m\u001b[1;33m.\u001b[0m\u001b[0mdesloglike\u001b[0m\u001b[1;33m(\u001b[0m\u001b[0mz10\u001b[0m\u001b[1;33m,\u001b[0m\u001b[0mmu10\u001b[0m\u001b[1;33m,\u001b[0m\u001b[0mco10\u001b[0m\u001b[1;33m)\u001b[0m \u001b[1;33m+\u001b[0m \u001b[0mobj\u001b[0m\u001b[1;33m.\u001b[0m\u001b[0mgrbloglike\u001b[0m\u001b[1;33m(\u001b[0m\u001b[0mz7\u001b[0m\u001b[1;33m,\u001b[0m \u001b[0my7\u001b[0m\u001b[1;33m,\u001b[0m \u001b[0merr7\u001b[0m\u001b[1;33m)\u001b[0m \u001b[1;33m+\u001b[0m \u001b[0mobj\u001b[0m\u001b[1;33m.\u001b[0m\u001b[0mqsologlike\u001b[0m\u001b[1;33m(\u001b[0m\u001b[0mz8\u001b[0m\u001b[1;33m,\u001b[0m \u001b[0md8\u001b[0m\u001b[1;33m,\u001b[0m \u001b[0me8\u001b[0m\u001b[1;33m)\u001b[0m\u001b[1;33m\u001b[0m\u001b[1;33m\u001b[0m\u001b[0m\n\u001b[0m\u001b[0;32m    122\u001b[0m \u001b[1;33m\u001b[0m\u001b[0m\n",
      "\u001b[1;32m<ipython-input-21-1a0682e3a233>\u001b[0m in \u001b[0;36mqsologlike\u001b[1;34m(self, x, y, err)\u001b[0m\n\u001b[0;32m    147\u001b[0m     \u001b[1;32mdef\u001b[0m \u001b[0mqsologlike\u001b[0m\u001b[1;33m(\u001b[0m\u001b[0mself\u001b[0m\u001b[1;33m,\u001b[0m \u001b[0mx\u001b[0m\u001b[1;33m,\u001b[0m \u001b[0my\u001b[0m\u001b[1;33m,\u001b[0m \u001b[0merr\u001b[0m\u001b[1;33m)\u001b[0m\u001b[1;33m:\u001b[0m \u001b[1;31m#data series 8\u001b[0m\u001b[1;33m\u001b[0m\u001b[1;33m\u001b[0m\u001b[0m\n\u001b[0;32m    148\u001b[0m         \u001b[0msigma2\u001b[0m \u001b[1;33m=\u001b[0m \u001b[0merr\u001b[0m \u001b[1;33m**\u001b[0m \u001b[1;36m2.\u001b[0m\u001b[1;33m\u001b[0m\u001b[1;33m\u001b[0m\u001b[0m\n\u001b[1;32m--> 149\u001b[1;33m         \u001b[1;32mreturn\u001b[0m \u001b[1;33m-\u001b[0m\u001b[1;36m0.5\u001b[0m \u001b[1;33m*\u001b[0m \u001b[0mnp\u001b[0m\u001b[1;33m.\u001b[0m\u001b[0msum\u001b[0m\u001b[1;33m(\u001b[0m\u001b[1;33m(\u001b[0m\u001b[0my\u001b[0m \u001b[1;33m-\u001b[0m \u001b[1;33m(\u001b[0m\u001b[1;36m6.\u001b[0m\u001b[1;33m*\u001b[0m\u001b[1;36m11.03e3\u001b[0m\u001b[1;33m/\u001b[0m\u001b[1;33m(\u001b[0m\u001b[1;36m29.1\u001b[0m\u001b[1;33m*\u001b[0m\u001b[0mro_m_ro_d\u001b[0m\u001b[1;33m.\u001b[0m\u001b[0mdco\u001b[0m\u001b[1;33m(\u001b[0m\u001b[0mself\u001b[0m\u001b[1;33m,\u001b[0m\u001b[0mx\u001b[0m\u001b[1;33m)\u001b[0m\u001b[1;33m/\u001b[0m\u001b[1;33m(\u001b[0m\u001b[1;36m1.\u001b[0m\u001b[1;33m+\u001b[0m\u001b[0mx\u001b[0m\u001b[1;33m)\u001b[0m\u001b[1;33m)\u001b[0m\u001b[1;33m)\u001b[0m\u001b[1;33m)\u001b[0m \u001b[1;33m**\u001b[0m \u001b[1;36m2\u001b[0m \u001b[1;33m/\u001b[0m \u001b[1;33m(\u001b[0m\u001b[0msigma2\u001b[0m\u001b[1;33m)\u001b[0m\u001b[1;33m)\u001b[0m\u001b[1;33m\u001b[0m\u001b[1;33m\u001b[0m\u001b[0m\n\u001b[0m\u001b[0;32m    150\u001b[0m     \u001b[1;32mdef\u001b[0m \u001b[0mangularscale\u001b[0m\u001b[1;33m(\u001b[0m\u001b[0mself\u001b[0m\u001b[1;33m,\u001b[0m \u001b[0mx\u001b[0m\u001b[1;33m)\u001b[0m\u001b[1;33m:\u001b[0m\u001b[1;33m\u001b[0m\u001b[1;33m\u001b[0m\u001b[0m\n\u001b[0;32m    151\u001b[0m         \u001b[0mrs\u001b[0m \u001b[1;33m=\u001b[0m\u001b[1;33m(\u001b[0m\u001b[1;36m55.154\u001b[0m\u001b[1;33m*\u001b[0m\u001b[0mnp\u001b[0m\u001b[1;33m.\u001b[0m\u001b[0mexp\u001b[0m\u001b[1;33m(\u001b[0m\u001b[1;33m-\u001b[0m\u001b[1;36m72.3\u001b[0m\u001b[1;33m*\u001b[0m\u001b[1;33m(\u001b[0m\u001b[0mself\u001b[0m\u001b[1;33m.\u001b[0m\u001b[0mon0\u001b[0m\u001b[1;33m*\u001b[0m\u001b[1;33m(\u001b[0m\u001b[0mself\u001b[0m\u001b[1;33m.\u001b[0m\u001b[0mH0\u001b[0m\u001b[1;33m/\u001b[0m\u001b[1;36m100.\u001b[0m\u001b[1;33m)\u001b[0m\u001b[1;33m**\u001b[0m\u001b[1;36m2.\u001b[0m\u001b[1;33m+\u001b[0m\u001b[1;36m0.0006\u001b[0m\u001b[1;33m)\u001b[0m\u001b[1;33m**\u001b[0m\u001b[1;36m2.\u001b[0m\u001b[1;33m)\u001b[0m\u001b[1;33m)\u001b[0m\u001b[1;33m/\u001b[0m\u001b[1;33m(\u001b[0m\u001b[1;33m(\u001b[0m\u001b[0mself\u001b[0m\u001b[1;33m.\u001b[0m\u001b[0mob0h2\u001b[0m\u001b[1;33m)\u001b[0m\u001b[1;33m**\u001b[0m\u001b[1;36m0.12807\u001b[0m\u001b[1;33m*\u001b[0m\u001b[1;33m(\u001b[0m\u001b[0mself\u001b[0m\u001b[1;33m.\u001b[0m\u001b[0mob0h2\u001b[0m\u001b[1;33m+\u001b[0m\u001b[0mself\u001b[0m\u001b[1;33m.\u001b[0m\u001b[0moc0h2\u001b[0m\u001b[1;33m)\u001b[0m\u001b[1;33m**\u001b[0m\u001b[1;36m0.25351\u001b[0m\u001b[1;33m)\u001b[0m\u001b[1;33m\u001b[0m\u001b[1;33m\u001b[0m\u001b[0m\n",
      "\u001b[1;32m<ipython-input-21-1a0682e3a233>\u001b[0m in \u001b[0;36mdco\u001b[1;34m(self, x)\u001b[0m\n\u001b[0;32m     41\u001b[0m             \u001b[0mzs\u001b[0m \u001b[1;33m=\u001b[0m \u001b[0mint\u001b[0m\u001b[1;33m(\u001b[0m\u001b[0mx\u001b[0m\u001b[1;33m[\u001b[0m\u001b[0mi\u001b[0m\u001b[1;33m]\u001b[0m\u001b[1;33m/\u001b[0m\u001b[1;36m0.004\u001b[0m\u001b[1;33m)\u001b[0m\u001b[1;33m\u001b[0m\u001b[1;33m\u001b[0m\u001b[0m\n\u001b[0;32m     42\u001b[0m             \u001b[0mxs\u001b[0m   \u001b[1;33m=\u001b[0m \u001b[0mnp\u001b[0m\u001b[1;33m.\u001b[0m\u001b[0mlinspace\u001b[0m\u001b[1;33m(\u001b[0m\u001b[1;36m0\u001b[0m\u001b[1;33m,\u001b[0m\u001b[0mx\u001b[0m\u001b[1;33m[\u001b[0m\u001b[0mi\u001b[0m\u001b[1;33m]\u001b[0m\u001b[1;33m,\u001b[0m\u001b[0mzs\u001b[0m\u001b[1;33m)\u001b[0m\u001b[1;33m\u001b[0m\u001b[1;33m\u001b[0m\u001b[0m\n\u001b[1;32m---> 43\u001b[1;33m             \u001b[0ma\u001b[0m\u001b[1;33m[\u001b[0m\u001b[0mi\u001b[0m\u001b[1;33m]\u001b[0m \u001b[1;33m=\u001b[0m \u001b[0mnp\u001b[0m\u001b[1;33m.\u001b[0m\u001b[0mtrapz\u001b[0m\u001b[1;33m(\u001b[0m\u001b[1;36m3e5\u001b[0m\u001b[1;33m/\u001b[0m\u001b[0mro_m_ro_d\u001b[0m\u001b[1;33m.\u001b[0m\u001b[0mH\u001b[0m\u001b[1;33m(\u001b[0m\u001b[0mself\u001b[0m\u001b[1;33m,\u001b[0m\u001b[0mxs\u001b[0m\u001b[1;33m)\u001b[0m \u001b[1;33m,\u001b[0m \u001b[0mxs\u001b[0m \u001b[1;33m)\u001b[0m\u001b[1;33m\u001b[0m\u001b[1;33m\u001b[0m\u001b[0m\n\u001b[0m\u001b[0;32m     44\u001b[0m         \u001b[1;32mreturn\u001b[0m \u001b[0ma\u001b[0m\u001b[1;33m\u001b[0m\u001b[1;33m\u001b[0m\u001b[0m\n\u001b[0;32m     45\u001b[0m \u001b[1;33m\u001b[0m\u001b[0m\n",
      "\u001b[1;32m<ipython-input-21-1a0682e3a233>\u001b[0m in \u001b[0;36mH\u001b[1;34m(self, x)\u001b[0m\n\u001b[0;32m     34\u001b[0m \u001b[1;33m\u001b[0m\u001b[0m\n\u001b[0;32m     35\u001b[0m     \u001b[1;32mdef\u001b[0m \u001b[0mH\u001b[0m\u001b[1;33m(\u001b[0m\u001b[0mself\u001b[0m\u001b[1;33m,\u001b[0m\u001b[0mx\u001b[0m\u001b[1;33m)\u001b[0m\u001b[1;33m:\u001b[0m\u001b[1;33m\u001b[0m\u001b[1;33m\u001b[0m\u001b[0m\n\u001b[1;32m---> 36\u001b[1;33m         \u001b[1;32mreturn\u001b[0m \u001b[0mself\u001b[0m\u001b[1;33m.\u001b[0m\u001b[0mH0\u001b[0m\u001b[1;33m*\u001b[0m\u001b[0mnp\u001b[0m\u001b[1;33m.\u001b[0m\u001b[0msqrt\u001b[0m\u001b[1;33m(\u001b[0m\u001b[1;33m(\u001b[0m\u001b[0mro_m_ro_d\u001b[0m\u001b[1;33m.\u001b[0m\u001b[0mroc\u001b[0m\u001b[1;33m(\u001b[0m\u001b[0mself\u001b[0m\u001b[1;33m,\u001b[0m\u001b[0mx\u001b[0m\u001b[1;33m)\u001b[0m \u001b[1;33m+\u001b[0m \u001b[0mro_m_ro_d\u001b[0m\u001b[1;33m.\u001b[0m\u001b[0mrod\u001b[0m\u001b[1;33m(\u001b[0m\u001b[0mself\u001b[0m\u001b[1;33m,\u001b[0m\u001b[0mx\u001b[0m\u001b[1;33m)\u001b[0m\u001b[1;33m)\u001b[0m \u001b[1;33m+\u001b[0m \u001b[0mro_m_ro_d\u001b[0m\u001b[1;33m.\u001b[0m\u001b[0mrob\u001b[0m\u001b[1;33m(\u001b[0m\u001b[0mself\u001b[0m\u001b[1;33m,\u001b[0m\u001b[0mx\u001b[0m\u001b[1;33m)\u001b[0m\u001b[1;33m)\u001b[0m\u001b[1;33m\u001b[0m\u001b[1;33m\u001b[0m\u001b[0m\n\u001b[0m\u001b[0;32m     37\u001b[0m \u001b[1;33m\u001b[0m\u001b[0m\n\u001b[0;32m     38\u001b[0m     \u001b[1;32mdef\u001b[0m \u001b[0mdco\u001b[0m\u001b[1;33m(\u001b[0m\u001b[0mself\u001b[0m\u001b[1;33m,\u001b[0m\u001b[0mx\u001b[0m\u001b[1;33m)\u001b[0m\u001b[1;33m:\u001b[0m \u001b[1;31m#comoving distance (Mpc)\u001b[0m\u001b[1;33m\u001b[0m\u001b[1;33m\u001b[0m\u001b[0m\n",
      "\u001b[1;32m<ipython-input-21-1a0682e3a233>\u001b[0m in \u001b[0;36mrob\u001b[1;34m(self, x)\u001b[0m\n\u001b[0;32m     30\u001b[0m \u001b[1;33m\u001b[0m\u001b[0m\n\u001b[0;32m     31\u001b[0m     \u001b[1;32mdef\u001b[0m \u001b[0mrob\u001b[0m\u001b[1;33m(\u001b[0m\u001b[0mself\u001b[0m\u001b[1;33m,\u001b[0m\u001b[0mx\u001b[0m\u001b[1;33m)\u001b[0m\u001b[1;33m:\u001b[0m\u001b[1;33m\u001b[0m\u001b[1;33m\u001b[0m\u001b[0m\n\u001b[1;32m---> 32\u001b[1;33m         \u001b[0mA\u001b[0m \u001b[1;33m=\u001b[0m \u001b[0minterp1d\u001b[0m\u001b[1;33m(\u001b[0m\u001b[0mself\u001b[0m\u001b[1;33m.\u001b[0m\u001b[0mz\u001b[0m\u001b[1;33m,\u001b[0m \u001b[0mself\u001b[0m\u001b[1;33m.\u001b[0m\u001b[0momega\u001b[0m\u001b[1;33m[\u001b[0m\u001b[1;33m:\u001b[0m\u001b[1;33m,\u001b[0m\u001b[1;36m2\u001b[0m\u001b[1;33m]\u001b[0m\u001b[1;33m,\u001b[0m\u001b[0mkind\u001b[0m\u001b[1;33m=\u001b[0m\u001b[1;34m'cubic'\u001b[0m\u001b[1;33m,\u001b[0m\u001b[0mfill_value\u001b[0m\u001b[1;33m=\u001b[0m\u001b[1;34m\"extrapolate\"\u001b[0m\u001b[1;33m)\u001b[0m\u001b[1;33m\u001b[0m\u001b[1;33m\u001b[0m\u001b[0m\n\u001b[0m\u001b[0;32m     33\u001b[0m         \u001b[1;32mreturn\u001b[0m \u001b[0mA\u001b[0m\u001b[1;33m(\u001b[0m\u001b[0mx\u001b[0m\u001b[1;33m)\u001b[0m\u001b[1;33m\u001b[0m\u001b[1;33m\u001b[0m\u001b[0m\n\u001b[0;32m     34\u001b[0m \u001b[1;33m\u001b[0m\u001b[0m\n",
      "\u001b[1;32m~\\anaconda3\\lib\\site-packages\\scipy\\interpolate\\interpolate.py\u001b[0m in \u001b[0;36m__init__\u001b[1;34m(***failed resolving arguments***)\u001b[0m\n\u001b[0;32m    526\u001b[0m                     \u001b[0mrewrite_nan\u001b[0m \u001b[1;33m=\u001b[0m \u001b[1;32mTrue\u001b[0m\u001b[1;33m\u001b[0m\u001b[1;33m\u001b[0m\u001b[0m\n\u001b[0;32m    527\u001b[0m \u001b[1;33m\u001b[0m\u001b[0m\n\u001b[1;32m--> 528\u001b[1;33m             self._spline = make_interp_spline(xx, yy, k=order,\n\u001b[0m\u001b[0;32m    529\u001b[0m                                               check_finite=False)\n\u001b[0;32m    530\u001b[0m             \u001b[1;32mif\u001b[0m \u001b[0mrewrite_nan\u001b[0m\u001b[1;33m:\u001b[0m\u001b[1;33m\u001b[0m\u001b[1;33m\u001b[0m\u001b[0m\n",
      "\u001b[1;32m~\\anaconda3\\lib\\site-packages\\scipy\\interpolate\\_bsplines.py\u001b[0m in \u001b[0;36mmake_interp_spline\u001b[1;34m(x, y, k, t, bc_type, axis, check_finite)\u001b[0m\n\u001b[0;32m    820\u001b[0m     \u001b[0mkl\u001b[0m \u001b[1;33m=\u001b[0m \u001b[0mku\u001b[0m \u001b[1;33m=\u001b[0m \u001b[0mk\u001b[0m\u001b[1;33m\u001b[0m\u001b[1;33m\u001b[0m\u001b[0m\n\u001b[0;32m    821\u001b[0m     \u001b[0mab\u001b[0m \u001b[1;33m=\u001b[0m \u001b[0mnp\u001b[0m\u001b[1;33m.\u001b[0m\u001b[0mzeros\u001b[0m\u001b[1;33m(\u001b[0m\u001b[1;33m(\u001b[0m\u001b[1;36m2\u001b[0m\u001b[1;33m*\u001b[0m\u001b[0mkl\u001b[0m \u001b[1;33m+\u001b[0m \u001b[0mku\u001b[0m \u001b[1;33m+\u001b[0m \u001b[1;36m1\u001b[0m\u001b[1;33m,\u001b[0m \u001b[0mnt\u001b[0m\u001b[1;33m)\u001b[0m\u001b[1;33m,\u001b[0m \u001b[0mdtype\u001b[0m\u001b[1;33m=\u001b[0m\u001b[0mnp\u001b[0m\u001b[1;33m.\u001b[0m\u001b[0mfloat_\u001b[0m\u001b[1;33m,\u001b[0m \u001b[0morder\u001b[0m\u001b[1;33m=\u001b[0m\u001b[1;34m'F'\u001b[0m\u001b[1;33m)\u001b[0m\u001b[1;33m\u001b[0m\u001b[1;33m\u001b[0m\u001b[0m\n\u001b[1;32m--> 822\u001b[1;33m     \u001b[0m_bspl\u001b[0m\u001b[1;33m.\u001b[0m\u001b[0m_colloc\u001b[0m\u001b[1;33m(\u001b[0m\u001b[0mx\u001b[0m\u001b[1;33m,\u001b[0m \u001b[0mt\u001b[0m\u001b[1;33m,\u001b[0m \u001b[0mk\u001b[0m\u001b[1;33m,\u001b[0m \u001b[0mab\u001b[0m\u001b[1;33m,\u001b[0m \u001b[0moffset\u001b[0m\u001b[1;33m=\u001b[0m\u001b[0mnleft\u001b[0m\u001b[1;33m)\u001b[0m\u001b[1;33m\u001b[0m\u001b[1;33m\u001b[0m\u001b[0m\n\u001b[0m\u001b[0;32m    823\u001b[0m     \u001b[1;32mif\u001b[0m \u001b[0mnleft\u001b[0m \u001b[1;33m>\u001b[0m \u001b[1;36m0\u001b[0m\u001b[1;33m:\u001b[0m\u001b[1;33m\u001b[0m\u001b[1;33m\u001b[0m\u001b[0m\n\u001b[0;32m    824\u001b[0m         \u001b[0m_bspl\u001b[0m\u001b[1;33m.\u001b[0m\u001b[0m_handle_lhs_derivatives\u001b[0m\u001b[1;33m(\u001b[0m\u001b[0mt\u001b[0m\u001b[1;33m,\u001b[0m \u001b[0mk\u001b[0m\u001b[1;33m,\u001b[0m \u001b[0mx\u001b[0m\u001b[1;33m[\u001b[0m\u001b[1;36m0\u001b[0m\u001b[1;33m]\u001b[0m\u001b[1;33m,\u001b[0m \u001b[0mab\u001b[0m\u001b[1;33m,\u001b[0m \u001b[0mkl\u001b[0m\u001b[1;33m,\u001b[0m \u001b[0mku\u001b[0m\u001b[1;33m,\u001b[0m \u001b[0mderiv_l_ords\u001b[0m\u001b[1;33m)\u001b[0m\u001b[1;33m\u001b[0m\u001b[1;33m\u001b[0m\u001b[0m\n",
      "\u001b[1;31mKeyboardInterrupt\u001b[0m: "
     ]
    }
   ],
   "source": [
    "from cobaya.run import run\n",
    "updated_info, sampler = run(info)"
   ]
  },
  {
   "cell_type": "code",
   "execution_count": 13,
   "metadata": {},
   "outputs": [
    {
     "name": "stdout",
     "output_type": "stream",
     "text": [
      "[root] *WARNING* outlier fraction 0.0019345238095238096 \n",
      "[root] *WARNING* 2D kernel density bandwidth optimizer failed for oc0h2, om0. Using fallback width: f(a) and f(b) must have different signs\n",
      "[root] *WARNING* 2D kernel density bandwidth optimizer failed for w0, b. Using fallback width: f(a) and f(b) must have different signs\n",
      "[root] *WARNING* 2D kernel density bandwidth optimizer failed for w0, alpha. Using fallback width: f(a) and f(b) must have different signs\n",
      "[root] *WARNING* 2D kernel density bandwidth optimizer failed for b, om0. Using fallback width: f(a) and f(b) must have different signs\n",
      "[root] *WARNING* 2D kernel density bandwidth optimizer failed for alpha, om0. Using fallback width: f(a) and f(b) must have different signs\n"
     ]
    },
    {
     "data": {
      "image/png": "[encoded data removed]",
      "text/plain": [
       "<Figure size 1008x1008 with 28 Axes>"
      ]
     },
     "metadata": {
      "needs_background": "light"
     },
     "output_type": "display_data"
    }
   ],
   "source": [
    "# Export the direct results to GetDist\n",
    "from getdist.mcsamples import MCSamplesFromCobaya\n",
    "import getdist.plots as gdplt\n",
    "\n",
    "gd_sample = MCSamplesFromCobaya(updated_info, sampler.products()[\"sample\"])\n",
    "gdplot = gdplt.get_subplot_plotter()\n",
    "gdplot.triangle_plot(gd_sample, [\"oc0h2\",\"ob0h2\",\"w0\",\"b\",\"alpha\", \"M\", \"H0\", \"om0\"], filled=True)\n",
    "gdplot.export(\"bao-b.pdf\")"
   ]
  },
  {
   "cell_type": "code",
   "execution_count": 17,
   "metadata": {},
   "outputs": [],
   "source": [
    "\n",
    "import numpy as np # Export the results from chain file to GetDist\n",
    "a = np.loadtxt('./chains31/gaus.1.txt')\n",
    "\n",
    "np.savetxt('./xxx/xxx.txt',a[:,0:9])\n",
    "\n",
    "param = np.array([['oc0h2','\\Omega_c'],['w0','w0'],['b','b'],['alpha','alpha'],['M','M'],['H0','H0'],['om0','om0']])\n",
    "np.savetxt('./xxx/xxx.paramnames',param,fmt='%s')\n",
    "\n",
    "prior = np.array([('oc0h2',0.,1.4),('w0',-3.0,-0.01),('b',0.0,0.5),('alpha',0.0,2.0),('M',15.,25.),('H0',55.,85.)],\n",
    "                 dtype=[('n','U10'),('1','f8'),('2','f8')])\n",
    "np.savetxt('./xxx/xxx.ranges',prior,fmt='   '.join(['%s']+['%1.3f']+['%1.3f']))"
   ]
  },
  {
   "cell_type": "code",
   "execution_count": 28,
   "metadata": {},
   "outputs": [
    {
     "name": "stdout",
     "output_type": "stream",
     "text": [
      "[root] *WARNING* 2D kernel density bandwidth optimizer failed for oc0h2, om0. Using fallback width: f(a) and f(b) must have different signs\n",
      "[root] *WARNING* 2D kernel density bandwidth optimizer failed for w0, b. Using fallback width: f(a) and f(b) must have different signs\n",
      "[root] *WARNING* 2D kernel density bandwidth optimizer failed for w0, alpha. Using fallback width: f(a) and f(b) must have different signs\n",
      "[root] *WARNING* 2D kernel density bandwidth optimizer failed for b, om0. Using fallback width: f(a) and f(b) must have different signs\n",
      "[root] *WARNING* 2D kernel density bandwidth optimizer failed for alpha, om0. Using fallback width: f(a) and f(b) must have different signs\n"
     ]
    },
    {
     "data": {
      "text/plain": [
       "<Figure size 432x324 with 0 Axes>"
      ]
     },
     "metadata": {},
     "output_type": "display_data"
    },
    {
     "data": {
      "image/png": "[encoded data removed]",
      "text/plain": [
       "<Figure size 864x864 with 21 Axes>"
      ]
     },
     "metadata": {
      "needs_background": "light"
     },
     "output_type": "display_data"
    }
   ],
   "source": [
    "# Export the direct results to GetDist\n",
    "from getdist.mcsamples import MCSamplesFromCobaya\n",
    "import getdist.plots as gdplt\n",
    "from getdist.mcsamples import MCSamplesFromCobaya\n",
    "from getdist.mcsamples import MCSamples\n",
    "from getdist.chains    import Chains\n",
    "import getdist.plots as gdplt\n",
    "from getdist import plots\n",
    "from getdist import loadMCSamples\n",
    "\n",
    "gd_samples =  loadMCSamples('./xxx/xxx')\n",
    "gdplot = gdplt.get_subplot_plotter()\n",
    "g = plots.get_single_plotter()\n",
    "gdplot.triangle_plot(gd_samples, [\"oc0h2\",\"w0\",\"b\",\"alpha\", \"H0\", \"om0\"], filled=True)\n",
    "#gdplot.export(\"22a.pdf\")\n",
    "#g.plot_2d(samples, 'om0', 'w0', filled=True)"
   ]
  },
  {
   "cell_type": "code",
   "execution_count": 19,
   "metadata": {},
   "outputs": [
    {
     "name": "stdout",
     "output_type": "stream",
     "text": [
      "\\begin{tabular} { l  c}\n",
      "\n",
      " Parameter &  95\\% limits\\\\\n",
      "\\hline\n",
      "{\\boldmath$\\Omega_c       $} & $0.100^{+0.069}_{-0.089}   $\\\\\n",
      "\n",
      "{\\boldmath$w0             $} & $-1.02^{+0.28}_{-0.29}     $\\\\\n",
      "\n",
      "{\\boldmath$b              $} & ---                         \\\\\n",
      "\n",
      "{\\boldmath$alpha          $} & $< 1.60                    $\\\\\n",
      "\n",
      "{\\boldmath$M              $} & $19.385^{+0.084}_{-0.084}  $\\\\\n",
      "\n",
      "{\\boldmath$H0             $} & $69.6^{+3.1}_{-3.3}        $\\\\\n",
      "\n",
      "{\\boldmath$om0            $} & $0.26^{+0.18}_{-0.20}      $\\\\\n",
      "\\hline\n",
      "\\end{tabular}\n"
     ]
    }
   ],
   "source": [
    "print(gd_samples.getTable().tableTex())"
   ]
  },
  {
   "cell_type": "code",
   "execution_count": 29,
   "metadata": {},
   "outputs": [
    {
     "name": "stdout",
     "output_type": "stream",
     "text": [
      "oc0h2 0.68% lower: 0.055 upper: 0.148 (two tail)\n",
      "w0 0.68% lower: -1.149 upper: -0.864 (two tail)\n",
      "b 0.68% lower: 0.221 upper: 0.528 (two tail)\n",
      "alpha 0.68% lower: 0.037 upper: 0.981 (two tail)\n",
      "om0 0.68% lower: 0.167 upper: 0.357 (two tail)\n",
      "oc0h2 0.95% lower: 0.011 upper: 0.169 (two tail)\n",
      "w0 0.95% lower: -1.314 upper: -0.741 (two tail)\n",
      "b 0.95% lower: 0.000 upper: 0.500 (none)\n",
      "alpha 0.95% lower: 0.000 upper: 1.596 (one tail upper limit)\n",
      "om0 0.95% lower: 0.060 upper: 0.436 (two tail)\n",
      "oc0h2 0.99% lower: 0.000 upper: 0.179 (one tail upper limit)\n",
      "w0 0.99% lower: -1.434 upper: -0.655 (two tail)\n",
      "b 0.99% lower: 0.000 upper: 0.500 (none)\n",
      "alpha 0.99% lower: 0.000 upper: 1.500 (none)\n",
      "om0 0.99% lower: 0.057 upper: 0.439 (two tail)\n"
     ]
    }
   ],
   "source": [
    "stats = gd_samples.getMargeStats()\n",
    "lims0 = stats.parWithName('oc0h2').limits\n",
    "lims1 = stats.parWithName('w0').limits\n",
    "lims2 = stats.parWithName('b').limits\n",
    "lims3 = stats.parWithName('alpha').limits\n",
    "lims4 = stats.parWithName('om0').limits\n",
    "\n",
    "for conf, lim0, lim1, lim2, lim3, lim4 in zip(gd_samples.contours,lims0, lims1, lims2, lims3, lims4):\n",
    "    print('oc0h2 %s%% lower: %.3f upper: %.3f (%s)'%(conf, lim0.lower, lim0.upper, lim0.limitType()))\n",
    "    print('w0 %s%% lower: %.3f upper: %.3f (%s)'%(conf, lim1.lower, lim1.upper, lim1.limitType()))\n",
    "    print('b %s%% lower: %.3f upper: %.3f (%s)'%(conf, lim2.lower, lim2.upper, lim2.limitType()))\n",
    "    print('alpha %s%% lower: %.3f upper: %.3f (%s)'%(conf, lim3.lower, lim3.upper, lim3.limitType()))\n",
    "    print('om0 %s%% lower: %.3f upper: %.3f (%s)'%(conf, lim4.lower, lim4.upper, lim4.limitType()))"
   ]
  },
  {
   "cell_type": "code",
   "execution_count": 25,
   "metadata": {},
   "outputs": [],
   "source": [
    "\n",
    "import numpy as np # Export the results from chain file to GetDist\n",
    "a = np.loadtxt('./chains31/gaus.1.txt')\n",
    "\n",
    "np.savetxt('./xxx/xxx.txt',a[:,0:9])\n",
    "\n",
    "param = np.array([['oc0h2','\\Omega_c'],['w0','w0'],['b','b'],['alpha','alpha'],['M','M'],['H0','H0'],['om0','om0'],])\n",
    "np.savetxt('./xxx/xxx.paramnames',param,fmt='%s')\n",
    "\n",
    "prior = np.array([('oc0h2',0.,1.4),('w0',-2.5,-0.01),('b',0.0,0.5),('alpha',0.0,1.5),('M',15.,25.),('H0',55.,85.)],\n",
    "                 dtype=[('n','U10'),('1','f8'),('2','f8')])\n",
    "np.savetxt('./xxx/xxx.ranges',prior,fmt='   '.join(['%s']+['%1.3f']+['%1.3f']))"
   ]
  },
  {
   "cell_type": "code",
   "execution_count": 26,
   "metadata": {},
   "outputs": [
    {
     "name": "stdout",
     "output_type": "stream",
     "text": [
      "[root] *WARNING* outlier fraction 0.0019345238095238096 \n"
     ]
    },
    {
     "data": {
      "text/plain": [
       "<Figure size 432x324 with 0 Axes>"
      ]
     },
     "metadata": {},
     "output_type": "display_data"
    }
   ],
   "source": [
    "# Export the direct results to GetDist\n",
    "from getdist.mcsamples import MCSamplesFromCobaya\n",
    "import getdist.plots as gdplt\n",
    "from getdist.mcsamples import MCSamplesFromCobaya\n",
    "from getdist.mcsamples import MCSamples\n",
    "from getdist.chains    import Chains\n",
    "import getdist.plots as gdplt\n",
    "from getdist import plots\n",
    "from getdist import loadMCSamples\n",
    "\n",
    "gd_samples =  loadMCSamples('./xxx/xxx')\n",
    "gdplot = gdplt.get_subplot_plotter()\n",
    "g = plots.get_single_plotter()\n",
    "#gdplot.triangle_plot(gd_samples, [\"oc0h2\",\"w0\",\"b\",\"alpha\", \"M\", \"H0\", \"om0\"], filled=True)\n",
    "#gdplot.export(\"22a.pdf\")\n",
    "#g.plot_2d(samples, 'om0', 'w0', filled=True)"
   ]
  },
  {
   "cell_type": "code",
   "execution_count": 27,
   "metadata": {},
   "outputs": [
    {
     "name": "stdout",
     "output_type": "stream",
     "text": [
      "\\begin{tabular} { l  c}\n",
      "\n",
      " Parameter &  95\\% limits\\\\\n",
      "\\hline\n",
      "{\\boldmath$\\Omega_c       $} & $0.100^{+0.069}_{-0.089}   $\\\\\n",
      "\n",
      "{\\boldmath$w0             $} & $-1.02^{+0.28}_{-0.29}     $\\\\\n",
      "\n",
      "{\\boldmath$b              $} & ---                         \\\\\n",
      "\n",
      "{\\boldmath$alpha          $} & $< 1.60                    $\\\\\n",
      "\n",
      "{\\boldmath$M              $} & $19.385^{+0.084}_{-0.084}  $\\\\\n",
      "\n",
      "{\\boldmath$H0             $} & $69.6^{+3.1}_{-3.3}        $\\\\\n",
      "\n",
      "{\\boldmath$om0            $} & $0.26^{+0.18}_{-0.20}      $\\\\\n",
      "\\hline\n",
      "\\end{tabular}\n"
     ]
    }
   ],
   "source": [
    "print(gd_samples.getTable().tableTex())"
   ]
  },
  {
   "cell_type": "code",
   "execution_count": null,
   "metadata": {},
   "outputs": [],
   "source": []
  }
 ],
 "metadata": {
  "kernelspec": {
   "display_name": "Python 3 (ipykernel)",
   "language": "python",
   "name": "python3"
  },
  "language_info": {
   "codemirror_mode": {
    "name": "ipython",
    "version": 3
   },
   "file_extension": ".py",
   "mimetype": "text/x-python",
   "name": "python",
   "nbconvert_exporter": "python",
   "pygments_lexer": "ipython3",
   "version": "3.10.10"
  }
 },
 "nbformat": 4,
 "nbformat_minor": 4
}
